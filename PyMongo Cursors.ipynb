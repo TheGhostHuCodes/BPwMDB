{
 "cells": [
  {
   "cell_type": "code",
   "execution_count": 1,
   "metadata": {},
   "outputs": [],
   "source": [
    "import pymongo\n",
    "client = pymongo.MongoClient()\n",
    "db = client.test"
   ]
  },
  {
   "cell_type": "markdown",
   "metadata": {},
   "source": [
    "# Simple Cursor Management"
   ]
  },
  {
   "cell_type": "code",
   "execution_count": 2,
   "metadata": {},
   "outputs": [
    {
     "data": {
      "text/plain": [
       "<pymongo.cursor.Cursor at 0x11191e6d8>"
      ]
     },
     "execution_count": 2,
     "metadata": {},
     "output_type": "execute_result"
    }
   ],
   "source": [
    "db.packt_authors.find()"
   ]
  },
  {
   "cell_type": "code",
   "execution_count": 3,
   "metadata": {},
   "outputs": [],
   "source": [
    "curs = db.packt_authors.find()"
   ]
  },
  {
   "cell_type": "code",
   "execution_count": 4,
   "metadata": {},
   "outputs": [
    {
     "data": {
      "text/plain": [
       "{'_id': ObjectId('5b2892c36cb0042c7a421bb8'),\n",
       " 'name': 'Rick',\n",
       " 'tags': ['MongoDB', 'Python']}"
      ]
     },
     "execution_count": 4,
     "metadata": {},
     "output_type": "execute_result"
    }
   ],
   "source": [
    "curs.next()"
   ]
  },
  {
   "cell_type": "code",
   "execution_count": 5,
   "metadata": {},
   "outputs": [
    {
     "data": {
      "text/plain": [
       "1"
      ]
     },
     "execution_count": 5,
     "metadata": {},
     "output_type": "execute_result"
    }
   ],
   "source": [
    "curs.count()"
   ]
  },
  {
   "cell_type": "code",
   "execution_count": 6,
   "metadata": {},
   "outputs": [],
   "source": [
    "curs = db.packt_authors.find({'name': 'Rick'})"
   ]
  },
  {
   "cell_type": "code",
   "execution_count": 7,
   "metadata": {},
   "outputs": [
    {
     "name": "stdout",
     "output_type": "stream",
     "text": [
      "Rick\n"
     ]
    }
   ],
   "source": [
    "for doc in curs:\n",
    "    print(doc['name'])"
   ]
  },
  {
   "cell_type": "markdown",
   "metadata": {},
   "source": [
    "# Using limit and skip"
   ]
  },
  {
   "cell_type": "code",
   "execution_count": 8,
   "metadata": {},
   "outputs": [],
   "source": [
    "curs = db.packt_authors.find({}, {'_id': 0, 'name': 1}, limit=5)"
   ]
  },
  {
   "cell_type": "code",
   "execution_count": 9,
   "metadata": {},
   "outputs": [
    {
     "data": {
      "text/plain": [
       "[{'name': 'Rick'}]"
      ]
     },
     "execution_count": 9,
     "metadata": {},
     "output_type": "execute_result"
    }
   ],
   "source": [
    "list(curs)"
   ]
  },
  {
   "cell_type": "code",
   "execution_count": 10,
   "metadata": {},
   "outputs": [
    {
     "data": {
      "text/plain": [
       "1"
      ]
     },
     "execution_count": 10,
     "metadata": {},
     "output_type": "execute_result"
    }
   ],
   "source": [
    "curs.count()"
   ]
  },
  {
   "cell_type": "code",
   "execution_count": 11,
   "metadata": {},
   "outputs": [
    {
     "data": {
      "text/plain": [
       "[{'name': 'Rick'}]"
      ]
     },
     "execution_count": 11,
     "metadata": {},
     "output_type": "execute_result"
    }
   ],
   "source": [
    "curs = db.packt_authors.find({}, {'_id': 0, 'name': 1})\n",
    "curs = curs.limit(5)\n",
    "list(curs)"
   ]
  },
  {
   "cell_type": "code",
   "execution_count": 12,
   "metadata": {},
   "outputs": [
    {
     "data": {
      "text/plain": [
       "[]"
      ]
     },
     "execution_count": 12,
     "metadata": {},
     "output_type": "execute_result"
    }
   ],
   "source": [
    "curs = db.packt_authors.find({}, {'_id': 0, 'name': 1})\n",
    "curs = curs.limit(5)\n",
    "curs = curs.skip(1)\n",
    "list(curs)"
   ]
  },
  {
   "cell_type": "markdown",
   "metadata": {},
   "source": [
    "# Sorting"
   ]
  },
  {
   "cell_type": "code",
   "execution_count": 13,
   "metadata": {},
   "outputs": [
    {
     "data": {
      "text/plain": [
       "<pymongo.results.InsertManyResult at 0x11193fe88>"
      ]
     },
     "execution_count": 13,
     "metadata": {},
     "output_type": "execute_result"
    }
   ],
   "source": [
    "from random import randrange\n",
    "\n",
    "\n",
    "names = [\"Tonia\", \"Pricilla\", \"Lanelle\", \"Kirstin\", \"Carmine\", \"Deanna\", \"Ardell\", \"Daphne\", \"Camie\", \"Mayola\"]\n",
    "db.names.drop()\n",
    "db.names.insert_many([{\n",
    "    'name': name,\n",
    "    'rank': randrange(3)\n",
    "} for name in names])"
   ]
  },
  {
   "cell_type": "code",
   "execution_count": 14,
   "metadata": {},
   "outputs": [
    {
     "data": {
      "text/plain": [
       "[{'name': 'Ardell'},\n",
       " {'name': 'Camie'},\n",
       " {'name': 'Carmine'},\n",
       " {'name': 'Daphne'},\n",
       " {'name': 'Deanna'}]"
      ]
     },
     "execution_count": 14,
     "metadata": {},
     "output_type": "execute_result"
    }
   ],
   "source": [
    "curs = db.names.find({}, {'_id': 0, 'name': 1}, sort=[('name', 1)], limit=5)\n",
    "list(curs)"
   ]
  },
  {
   "cell_type": "code",
   "execution_count": 15,
   "metadata": {},
   "outputs": [
    {
     "data": {
      "text/plain": [
       "[{'name': 'Ardell'},\n",
       " {'name': 'Camie'},\n",
       " {'name': 'Carmine'},\n",
       " {'name': 'Daphne'},\n",
       " {'name': 'Deanna'},\n",
       " {'name': 'Kirstin'}]"
      ]
     },
     "execution_count": 15,
     "metadata": {},
     "output_type": "execute_result"
    }
   ],
   "source": [
    "curs = db.names.find({}, {'_id': 0, 'name': 1})\n",
    "curs = curs.sort('name')\n",
    "curs = curs.limit(6)\n",
    "list(curs)"
   ]
  },
  {
   "cell_type": "code",
   "execution_count": 16,
   "metadata": {},
   "outputs": [
    {
     "data": {
      "text/plain": [
       "[{'name': 'Carmine', 'rank': 0},\n",
       " {'name': 'Daphne', 'rank': 0},\n",
       " {'name': 'Lanelle', 'rank': 0},\n",
       " {'name': 'Tonia', 'rank': 0},\n",
       " {'name': 'Kirstin', 'rank': 1},\n",
       " {'name': 'Pricilla', 'rank': 1},\n",
       " {'name': 'Ardell', 'rank': 2},\n",
       " {'name': 'Camie', 'rank': 2}]"
      ]
     },
     "execution_count": 16,
     "metadata": {},
     "output_type": "execute_result"
    }
   ],
   "source": [
    "curs = db.names.find({}, {'_id': 0, 'name': 1, 'rank': 1})\n",
    "curs = curs.sort([\n",
    "    ('rank', 1),\n",
    "    ('name', 1)\n",
    "])\n",
    "curs = curs.limit(8)\n",
    "list(curs)"
   ]
  }
 ],
 "metadata": {
  "kernelspec": {
   "display_name": "Python 3",
   "language": "python",
   "name": "python3"
  },
  "language_info": {
   "codemirror_mode": {
    "name": "ipython",
    "version": 3
   },
   "file_extension": ".py",
   "mimetype": "text/x-python",
   "name": "python",
   "nbconvert_exporter": "python",
   "pygments_lexer": "ipython3",
   "version": "3.6.5"
  }
 },
 "nbformat": 4,
 "nbformat_minor": 2
}
