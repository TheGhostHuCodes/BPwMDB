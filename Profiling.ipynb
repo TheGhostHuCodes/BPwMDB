{
 "cells": [
  {
   "cell_type": "code",
   "execution_count": 1,
   "metadata": {},
   "outputs": [],
   "source": [
    "import pymongo\n",
    "client = pymongo.MongoClient()\n",
    "db = client.test\n",
    "coll = db.stress\n",
    "coll.drop()"
   ]
  },
  {
   "cell_type": "code",
   "execution_count": 2,
   "metadata": {},
   "outputs": [],
   "source": [
    "import time\n",
    "from functools import wraps\n",
    "\n",
    "\n",
    "def timed(label):\n",
    "    def decorator(func):\n",
    "        @wraps(func)\n",
    "        def wrapper(*args, **kwargs):\n",
    "            n = kwargs.get('n')\n",
    "            bs = kwargs.get('bs', 1)\n",
    "            begin = time.time()\n",
    "            try:\n",
    "                return func(*args, **kwargs)\n",
    "            finally:\n",
    "                elapsed = time.time() - begin\n",
    "                if n:\n",
    "                    if bs:\n",
    "                        n *= bs\n",
    "                    print('{} {}/s'.format(n / elapsed, label))\n",
    "                else:\n",
    "                    print('{}: {}s elapsed'.format(label, elapsed))\n",
    "        return wrapper\n",
    "    return decorator"
   ]
  },
  {
   "cell_type": "code",
   "execution_count": 3,
   "metadata": {},
   "outputs": [],
   "source": [
    "@timed('inserts')\n",
    "def insert_test(coll, n=1000, bs=1000):\n",
    "    for ix_n in range(n):\n",
    "        block = [\n",
    "            {'ix_n': ix_n, 'ix_b': ix_b}\n",
    "            for ix_b in range(bs)\n",
    "        ]\n",
    "        coll.insert_many(block)\n",
    "        if ix_n % 40 == 0:\n",
    "            print()\n",
    "        print('.', end='', flush=True)\n",
    "    print()"
   ]
  },
  {
   "cell_type": "code",
   "execution_count": 4,
   "metadata": {},
   "outputs": [],
   "source": [
    "import random\n",
    "@timed('queries')\n",
    "def query_test(coll, max_ix_b, max_ix_n, n=100, bs=10):\n",
    "    for ix_n in range(n):\n",
    "        rv_n = random.randint(0, max_ix_n + 1)\n",
    "        rv_b = random.randint(0, max_ix_b + 1)\n",
    "        res = coll.find({\n",
    "            'ix_n': rv_n,\n",
    "            'ix_b': {'$gt': rv_b}\n",
    "        })\n",
    "        list(res)"
   ]
  },
  {
   "cell_type": "code",
   "execution_count": 5,
   "metadata": {},
   "outputs": [],
   "source": [
    "@timed('updates')\n",
    "def update_test(coll, max_ix_b, max_ix_n, n=10000):\n",
    "    for ix_n in range(n):\n",
    "        rv_n = random.randint(0, max_ix_n + 1)\n",
    "        rv_b = random.randint(0, max_ix_b + 1)\n",
    "        coll.update_one(\n",
    "        {'ix_n': rv_n, 'ix_b': rv_b},\n",
    "        {'$inc': {'x': 1}})"
   ]
  },
  {
   "cell_type": "code",
   "execution_count": 6,
   "metadata": {},
   "outputs": [
    {
     "name": "stdout",
     "output_type": "stream",
     "text": [
      "\n",
      "........................................\n",
      "........................................\n",
      "........................................\n",
      "........................................\n",
      "........................................\n",
      "........................................\n",
      "........................................\n",
      "........................................\n",
      "........................................\n",
      "........................................\n",
      "........................................\n",
      "........................................\n",
      "....................\n",
      "64596.601898250876 inserts/s\n"
     ]
    }
   ],
   "source": [
    "insert_test(coll, n=500, bs=1000)"
   ]
  },
  {
   "cell_type": "code",
   "execution_count": 7,
   "metadata": {},
   "outputs": [],
   "source": [
    "max_ix_b = 999\n",
    "max_ix_n = 499\n",
    "coll.drop_indexes()"
   ]
  },
  {
   "cell_type": "code",
   "execution_count": 8,
   "metadata": {},
   "outputs": [],
   "source": [
    "db.set_profiling_level(1)"
   ]
  },
  {
   "cell_type": "code",
   "execution_count": 9,
   "metadata": {},
   "outputs": [
    {
     "name": "stdout",
     "output_type": "stream",
     "text": [
      "5.2586154865858985 queries/s\n"
     ]
    }
   ],
   "source": [
    "query_test(coll, max_ix_b, max_ix_n, n=50)"
   ]
  },
  {
   "cell_type": "code",
   "execution_count": 10,
   "metadata": {},
   "outputs": [],
   "source": [
    "doc = db.system.profile.find_one(sort=[('ts', -1)])"
   ]
  },
  {
   "cell_type": "code",
   "execution_count": 11,
   "metadata": {},
   "outputs": [
    {
     "data": {
      "text/plain": [
       "{'op': 'query',\n",
       " 'ns': 'test.stress',\n",
       " 'command': {'find': 'stress',\n",
       "  'filter': {'ix_n': 389, 'ix_b': {'$gt': 967}},\n",
       "  'lsid': {'id': UUID('6c1472e6-4bb2-48be-85a7-89ca1a06c632')},\n",
       "  '$readPreference': {'mode': 'secondaryPreferred'},\n",
       "  '$db': 'test'},\n",
       " 'keysExamined': 0,\n",
       " 'docsExamined': 500000,\n",
       " 'cursorExhausted': True,\n",
       " 'numYield': 3913,\n",
       " 'locks': {'Global': {'acquireCount': {'r': 7828}},\n",
       "  'Database': {'acquireCount': {'r': 3914}},\n",
       "  'Collection': {'acquireCount': {'r': 3914}}},\n",
       " 'nreturned': 32,\n",
       " 'responseLength': 1561,\n",
       " 'protocol': 'op_query',\n",
       " 'millis': 174,\n",
       " 'planSummary': 'COLLSCAN',\n",
       " 'execStats': {'stage': 'COLLSCAN',\n",
       "  'filter': {'$and': [{'ix_n': {'$eq': 389}}, {'ix_b': {'$gt': 967}}]},\n",
       "  'nReturned': 32,\n",
       "  'executionTimeMillisEstimate': 167,\n",
       "  'works': 500002,\n",
       "  'advanced': 32,\n",
       "  'needTime': 499969,\n",
       "  'needYield': 0,\n",
       "  'saveState': 3913,\n",
       "  'restoreState': 3913,\n",
       "  'isEOF': 1,\n",
       "  'invalidates': 0,\n",
       "  'direction': 'forward',\n",
       "  'docsExamined': 500000},\n",
       " 'ts': datetime.datetime(2018, 6, 28, 16, 40, 43, 422000),\n",
       " 'client': '127.0.0.1',\n",
       " 'allUsers': [],\n",
       " 'user': ''}"
      ]
     },
     "execution_count": 11,
     "metadata": {},
     "output_type": "execute_result"
    }
   ],
   "source": [
    "doc"
   ]
  },
  {
   "cell_type": "code",
   "execution_count": 12,
   "metadata": {},
   "outputs": [
    {
     "name": "stdout",
     "output_type": "stream",
     "text": [
      "174 query\n",
      "126 getmore\n",
      "47 query\n",
      "10 getmore\n",
      "166 query\n",
      "22 getmore\n",
      "155 query\n",
      "110 getmore\n",
      "62 query\n",
      "169 query\n"
     ]
    }
   ],
   "source": [
    "for doc in db.system.profile.find({'op': {'$ne': 'command'}}).sort([('ts', -1)]).limit(10):\n",
    "    print('{millis} {op}'.format(**doc))"
   ]
  },
  {
   "cell_type": "code",
   "execution_count": 13,
   "metadata": {},
   "outputs": [],
   "source": [
    "db.set_profiling_level(2)"
   ]
  },
  {
   "cell_type": "code",
   "execution_count": 14,
   "metadata": {},
   "outputs": [
    {
     "name": "stdout",
     "output_type": "stream",
     "text": [
      "5.432700596090112 queries/s\n"
     ]
    }
   ],
   "source": [
    "query_test(coll, max_ix_b, max_ix_n, n=50)"
   ]
  },
  {
   "cell_type": "code",
   "execution_count": 15,
   "metadata": {},
   "outputs": [
    {
     "name": "stdout",
     "output_type": "stream",
     "text": [
      "183 query\n",
      "17 getmore\n",
      "164 query\n",
      "95 getmore\n",
      "88 query\n",
      "20 getmore\n",
      "160 query\n",
      "71 getmore\n",
      "108 query\n",
      "161 getmore\n"
     ]
    }
   ],
   "source": [
    "for doc in db.system.profile.find({'op': {'$ne': 'command'}}).sort([('ts', -1)]).limit(10):\n",
    "    print('{millis} {op}'.format(**doc))"
   ]
  },
  {
   "cell_type": "code",
   "execution_count": 16,
   "metadata": {},
   "outputs": [
    {
     "data": {
      "text/plain": [
       "{'op': 'getmore',\n",
       " 'ns': 'test.stress',\n",
       " 'command': {'getMore': 129785085373,\n",
       "  'collection': 'stress',\n",
       "  'lsid': {'id': UUID('b93fd65c-5a24-4d74-86ec-c6e4f46d01c1')},\n",
       "  '$db': 'test',\n",
       "  '$readPreference': {'mode': 'primary'}},\n",
       " 'originatingCommand': {'find': 'stress',\n",
       "  'filter': {'ix_n': 61, 'ix_b': {'$gt': 628}},\n",
       "  'lsid': {'id': UUID('b93fd65c-5a24-4d74-86ec-c6e4f46d01c1')},\n",
       "  '$db': 'test',\n",
       "  '$readPreference': {'mode': 'primaryPreferred'}},\n",
       " 'cursorid': 129785085373.0,\n",
       " 'keysExamined': 0,\n",
       " 'docsExamined': 438270,\n",
       " 'cursorExhausted': True,\n",
       " 'numYield': 3426,\n",
       " 'locks': {'Global': {'acquireCount': {'r': 6854}},\n",
       "  'Database': {'acquireCount': {'r': 3427}},\n",
       "  'Collection': {'acquireCount': {'r': 3427}}},\n",
       " 'nreturned': 270,\n",
       " 'responseLength': 12663,\n",
       " 'protocol': 'op_msg',\n",
       " 'millis': 161,\n",
       " 'planSummary': 'COLLSCAN',\n",
       " 'execStats': {'stage': 'COLLSCAN',\n",
       "  'filter': {'$and': [{'ix_n': {'$eq': 61}}, {'ix_b': {'$gt': 628}}]},\n",
       "  'nReturned': 371,\n",
       "  'executionTimeMillisEstimate': 147,\n",
       "  'works': 500002,\n",
       "  'advanced': 371,\n",
       "  'needTime': 499630,\n",
       "  'needYield': 0,\n",
       "  'saveState': 3909,\n",
       "  'restoreState': 3909,\n",
       "  'isEOF': 1,\n",
       "  'invalidates': 0,\n",
       "  'direction': 'forward',\n",
       "  'docsExamined': 500000},\n",
       " 'ts': datetime.datetime(2018, 6, 28, 16, 42, 48, 536000),\n",
       " 'client': '127.0.0.1',\n",
       " 'allUsers': [],\n",
       " 'user': ''}"
      ]
     },
     "execution_count": 16,
     "metadata": {},
     "output_type": "execute_result"
    }
   ],
   "source": [
    "doc"
   ]
  },
  {
   "cell_type": "code",
   "execution_count": 17,
   "metadata": {},
   "outputs": [],
   "source": [
    "%matplotlib inline"
   ]
  },
  {
   "cell_type": "code",
   "execution_count": 18,
   "metadata": {},
   "outputs": [],
   "source": [
    "import pandas as pd"
   ]
  },
  {
   "cell_type": "code",
   "execution_count": 19,
   "metadata": {},
   "outputs": [],
   "source": [
    "from datetime import datetime\n",
    "now = datetime.utcnow()"
   ]
  },
  {
   "cell_type": "code",
   "execution_count": 20,
   "metadata": {},
   "outputs": [
    {
     "name": "stdout",
     "output_type": "stream",
     "text": [
      "5.427292899990187 queries/s\n"
     ]
    }
   ],
   "source": [
    "query_test(coll, max_ix_b, max_ix_n, n=50)"
   ]
  },
  {
   "cell_type": "code",
   "execution_count": 21,
   "metadata": {},
   "outputs": [],
   "source": [
    "df_pre_index = pd.DataFrame(list(db.system.profile.find({'ts': {'$gt': now}})))"
   ]
  },
  {
   "cell_type": "code",
   "execution_count": 22,
   "metadata": {},
   "outputs": [
    {
     "data": {
      "text/plain": [
       "<matplotlib.axes._subplots.AxesSubplot at 0x10a475b38>"
      ]
     },
     "execution_count": 22,
     "metadata": {},
     "output_type": "execute_result"
    },
    {
     "data": {
      "image/png": "[encoded data removed]",
      "text/plain": [
       "<Figure size 432x288 with 1 Axes>"
      ]
     },
     "metadata": {},
     "output_type": "display_data"
    }
   ],
   "source": [
    "df_pre_index.millis.hist()"
   ]
  },
  {
   "cell_type": "code",
   "execution_count": 23,
   "metadata": {},
   "outputs": [
    {
     "data": {
      "text/plain": [
       "'ix_n_1'"
      ]
     },
     "execution_count": 23,
     "metadata": {},
     "output_type": "execute_result"
    }
   ],
   "source": [
    "coll.create_index([\n",
    "    ('ix_n', 1)\n",
    "])"
   ]
  },
  {
   "cell_type": "code",
   "execution_count": 24,
   "metadata": {},
   "outputs": [],
   "source": [
    "now = datetime.utcnow()"
   ]
  },
  {
   "cell_type": "code",
   "execution_count": 25,
   "metadata": {},
   "outputs": [
    {
     "name": "stdout",
     "output_type": "stream",
     "text": [
      "263.2536139829381 queries/s\n"
     ]
    }
   ],
   "source": [
    "query_test(coll, max_ix_b, max_ix_n, n=50)"
   ]
  },
  {
   "cell_type": "code",
   "execution_count": 26,
   "metadata": {},
   "outputs": [],
   "source": [
    "df_post_index = pd.DataFrame(list(db.system.profile.find({'ts': {'$gt': now}})))"
   ]
  },
  {
   "cell_type": "code",
   "execution_count": 27,
   "metadata": {},
   "outputs": [
    {
     "data": {
      "text/plain": [
       "<matplotlib.axes._subplots.AxesSubplot at 0x10aa867f0>"
      ]
     },
     "execution_count": 27,
     "metadata": {},
     "output_type": "execute_result"
    },
    {
     "data": {
      "image/png": "[encoded data removed]",
      "text/plain": [
       "<Figure size 432x288 with 1 Axes>"
      ]
     },
     "metadata": {},
     "output_type": "display_data"
    }
   ],
   "source": [
    "df_post_index.millis.hist()"
   ]
  },
  {
   "cell_type": "code",
   "execution_count": 28,
   "metadata": {},
   "outputs": [],
   "source": [
    "coll.drop_indexes()"
   ]
  },
  {
   "cell_type": "code",
   "execution_count": 29,
   "metadata": {},
   "outputs": [
    {
     "name": "stdout",
     "output_type": "stream",
     "text": [
      "5.455099887292851 queries/s\n"
     ]
    }
   ],
   "source": [
    "db.set_profiling_level(0)\n",
    "query_test(coll, max_ix_b, max_ix_n, n=50)"
   ]
  },
  {
   "cell_type": "code",
   "execution_count": 30,
   "metadata": {},
   "outputs": [
    {
     "name": "stdout",
     "output_type": "stream",
     "text": [
      "5.546811284152438 queries/s\n"
     ]
    }
   ],
   "source": [
    "db.set_profiling_level(1, 200)\n",
    "query_test(coll, max_ix_b, max_ix_n, n=50)"
   ]
  },
  {
   "cell_type": "code",
   "execution_count": 31,
   "metadata": {},
   "outputs": [
    {
     "name": "stdout",
     "output_type": "stream",
     "text": [
      "5.570421627245266 queries/s\n"
     ]
    }
   ],
   "source": [
    "db.set_profiling_level(1, 10)\n",
    "query_test(coll, max_ix_b, max_ix_n, n=50)"
   ]
  },
  {
   "cell_type": "code",
   "execution_count": 32,
   "metadata": {},
   "outputs": [
    {
     "name": "stdout",
     "output_type": "stream",
     "text": [
      "5.575606106475936 queries/s\n"
     ]
    }
   ],
   "source": [
    "db.set_profiling_level(2)\n",
    "query_test(coll, max_ix_b, max_ix_n, n=50)"
   ]
  },
  {
   "cell_type": "code",
   "execution_count": 33,
   "metadata": {},
   "outputs": [
    {
     "name": "stdout",
     "output_type": "stream",
     "text": [
      "5.706104098459812 queries/s\n"
     ]
    }
   ],
   "source": [
    "db.set_profiling_level(1, 1000)\n",
    "query_test(coll, max_ix_b, max_ix_n, n=50)"
   ]
  }
 ],
 "metadata": {
  "kernelspec": {
   "display_name": "Python 3",
   "language": "python",
   "name": "python3"
  },
  "language_info": {
   "codemirror_mode": {
    "name": "ipython",
    "version": 3
   },
   "file_extension": ".py",
   "mimetype": "text/x-python",
   "name": "python",
   "nbconvert_exporter": "python",
   "pygments_lexer": "ipython3",
   "version": "3.6.5"
  }
 },
 "nbformat": 4,
 "nbformat_minor": 2
}
