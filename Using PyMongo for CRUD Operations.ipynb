{
 "cells": [
  {
   "cell_type": "markdown",
   "metadata": {},
   "source": [
    "# Using PyMongo for Crud Operations"
   ]
  },
  {
   "cell_type": "code",
   "execution_count": 1,
   "metadata": {},
   "outputs": [],
   "source": [
    "import pymongo\n",
    "client = pymongo.MongoClient()\n",
    "db = client.test\n",
    "db.packt_authors.drop()"
   ]
  },
  {
   "cell_type": "code",
   "execution_count": 2,
   "metadata": {},
   "outputs": [
    {
     "data": {
      "text/plain": [
       "<pymongo.results.InsertOneResult at 0x104c449c8>"
      ]
     },
     "execution_count": 2,
     "metadata": {},
     "output_type": "execute_result"
    }
   ],
   "source": [
    "result = db.packt_authors.insert_one({\n",
    "    'name': 'Rick Copeland',\n",
    "    'tags': ['mongodb', 'python']\n",
    "})\n",
    "result"
   ]
  },
  {
   "cell_type": "code",
   "execution_count": 3,
   "metadata": {},
   "outputs": [
    {
     "data": {
      "text/plain": [
       "ObjectId('5b2892c36cb0042c7a421bb8')"
      ]
     },
     "execution_count": 3,
     "metadata": {},
     "output_type": "execute_result"
    }
   ],
   "source": [
    "result.inserted_id"
   ]
  },
  {
   "cell_type": "code",
   "execution_count": 4,
   "metadata": {},
   "outputs": [
    {
     "data": {
      "text/plain": [
       "[{'_id': ObjectId('5b2892c36cb0042c7a421bb8'),\n",
       "  'name': 'Rick Copeland',\n",
       "  'tags': ['mongodb', 'python']}]"
      ]
     },
     "execution_count": 4,
     "metadata": {},
     "output_type": "execute_result"
    }
   ],
   "source": [
    "list(db.packt_authors.find())"
   ]
  },
  {
   "cell_type": "code",
   "execution_count": 5,
   "metadata": {},
   "outputs": [
    {
     "data": {
      "text/plain": [
       "{'_id': ObjectId('5b2892c36cb0042c7a421bb8'),\n",
       " 'name': 'Rick Copeland',\n",
       " 'tags': ['mongodb', 'python']}"
      ]
     },
     "execution_count": 5,
     "metadata": {},
     "output_type": "execute_result"
    }
   ],
   "source": [
    "doc = db.packt_authors.find_one()\n",
    "doc"
   ]
  },
  {
   "cell_type": "code",
   "execution_count": 6,
   "metadata": {},
   "outputs": [
    {
     "data": {
      "text/plain": [
       "{'_id': ObjectId('5b2892c36cb0042c7a421bb8'), 'name': 'Rick'}"
      ]
     },
     "execution_count": 6,
     "metadata": {},
     "output_type": "execute_result"
    }
   ],
   "source": [
    "db.packt_authors.replace_one(\n",
    "    {'_id': doc['_id']},\n",
    "    {'name': 'Rick'}\n",
    ")\n",
    "doc = db.packt_authors.find_one()\n",
    "doc"
   ]
  },
  {
   "cell_type": "code",
   "execution_count": 7,
   "metadata": {},
   "outputs": [
    {
     "data": {
      "text/plain": [
       "{'_id': ObjectId('5b2892c36cb0042c7a421bb8'),\n",
       " 'name': 'Rick',\n",
       " 'tags': ['MongoDB']}"
      ]
     },
     "execution_count": 7,
     "metadata": {},
     "output_type": "execute_result"
    }
   ],
   "source": [
    "db.packt_authors.update_one(\n",
    "    {'_id': doc['_id']},\n",
    "    {'$push': {'tags': 'MongoDB'}}\n",
    ")\n",
    "doc = db.packt_authors.find_one()\n",
    "doc"
   ]
  },
  {
   "cell_type": "code",
   "execution_count": 8,
   "metadata": {},
   "outputs": [
    {
     "data": {
      "text/plain": [
       "{'_id': ObjectId('5b2892c36cb0042c7a421bb8'),\n",
       " 'name': 'Rick',\n",
       " 'tags': ['MongoDB', 'Python']}"
      ]
     },
     "execution_count": 8,
     "metadata": {},
     "output_type": "execute_result"
    }
   ],
   "source": [
    "db.packt_authors.update_one(\n",
    "    {'_id': doc['_id']},\n",
    "    {'$push': {'tags': 'Python'}}\n",
    ")\n",
    "doc = db.packt_authors.find_one()\n",
    "doc"
   ]
  },
  {
   "cell_type": "code",
   "execution_count": 9,
   "metadata": {},
   "outputs": [
    {
     "data": {
      "text/plain": [
       "<pymongo.results.UpdateResult at 0x104c44908>"
      ]
     },
     "execution_count": 9,
     "metadata": {},
     "output_type": "execute_result"
    }
   ],
   "source": [
    "import re\n",
    "\n",
    "\n",
    "result = db.packt_authors.update_many(\n",
    "    {'name': re.compile('^R')},\n",
    "    {'$addToSet': {'tags': 'Python'}}\n",
    ")\n",
    "result"
   ]
  },
  {
   "cell_type": "code",
   "execution_count": 10,
   "metadata": {},
   "outputs": [],
   "source": [
    "result.upserted_id"
   ]
  },
  {
   "cell_type": "code",
   "execution_count": 11,
   "metadata": {},
   "outputs": [
    {
     "data": {
      "text/plain": [
       "[{'_id': ObjectId('5b2892c36cb0042c7a421bb8'),\n",
       "  'name': 'Rick',\n",
       "  'tags': ['MongoDB', 'Python']}]"
      ]
     },
     "execution_count": 11,
     "metadata": {},
     "output_type": "execute_result"
    }
   ],
   "source": [
    "list(db.packt_authors.find())"
   ]
  },
  {
   "cell_type": "markdown",
   "metadata": {},
   "source": [
    "# Using PyMongo for Indexing"
   ]
  },
  {
   "cell_type": "code",
   "execution_count": 12,
   "metadata": {},
   "outputs": [
    {
     "data": {
      "text/plain": [
       "{'_id_': {'v': 2, 'key': [('_id', 1)], 'ns': 'test.packt_authors'}}"
      ]
     },
     "execution_count": 12,
     "metadata": {},
     "output_type": "execute_result"
    }
   ],
   "source": [
    "db.packt_authors.index_information()"
   ]
  },
  {
   "cell_type": "code",
   "execution_count": 13,
   "metadata": {},
   "outputs": [],
   "source": [
    "db.packt_authors.drop_indexes()"
   ]
  },
  {
   "cell_type": "code",
   "execution_count": 14,
   "metadata": {},
   "outputs": [
    {
     "data": {
      "text/plain": [
       "{'_id_': {'v': 2, 'key': [('_id', 1)], 'ns': 'test.packt_authors'}}"
      ]
     },
     "execution_count": 14,
     "metadata": {},
     "output_type": "execute_result"
    }
   ],
   "source": [
    "db.packt_authors.index_information()"
   ]
  },
  {
   "cell_type": "code",
   "execution_count": 15,
   "metadata": {},
   "outputs": [
    {
     "data": {
      "text/plain": [
       "'name_1'"
      ]
     },
     "execution_count": 15,
     "metadata": {},
     "output_type": "execute_result"
    }
   ],
   "source": [
    "db.packt_authors.create_index('name')"
   ]
  },
  {
   "cell_type": "code",
   "execution_count": 16,
   "metadata": {},
   "outputs": [
    {
     "data": {
      "text/plain": [
       "'name_1_tags_1'"
      ]
     },
     "execution_count": 16,
     "metadata": {},
     "output_type": "execute_result"
    }
   ],
   "source": [
    "db.packt_authors.create_index(\n",
    "    [\n",
    "        ('name', 1),\n",
    "        ('tags', 1)\n",
    "    ],\n",
    "    background=True,\n",
    "    sparse=True\n",
    ")"
   ]
  },
  {
   "cell_type": "code",
   "execution_count": 17,
   "metadata": {},
   "outputs": [
    {
     "data": {
      "text/plain": [
       "{'_id_': {'v': 2, 'key': [('_id', 1)], 'ns': 'test.packt_authors'},\n",
       " 'name_1': {'v': 2, 'key': [('name', 1)], 'ns': 'test.packt_authors'},\n",
       " 'name_1_tags_1': {'v': 2,\n",
       "  'key': [('name', 1), ('tags', 1)],\n",
       "  'ns': 'test.packt_authors',\n",
       "  'background': True,\n",
       "  'sparse': True}}"
      ]
     },
     "execution_count": 17,
     "metadata": {},
     "output_type": "execute_result"
    }
   ],
   "source": [
    "db.packt_authors.index_information()"
   ]
  },
  {
   "cell_type": "markdown",
   "metadata": {},
   "source": [
    "# Using PyMongo for Introspection"
   ]
  },
  {
   "cell_type": "code",
   "execution_count": 18,
   "metadata": {},
   "outputs": [
    {
     "data": {
      "text/plain": [
       "['admin', 'config', 'local', 'test']"
      ]
     },
     "execution_count": 18,
     "metadata": {},
     "output_type": "execute_result"
    }
   ],
   "source": [
    "client.database_names()"
   ]
  },
  {
   "cell_type": "code",
   "execution_count": 19,
   "metadata": {},
   "outputs": [
    {
     "data": {
      "text/plain": [
       "['packt_authors']"
      ]
     },
     "execution_count": 19,
     "metadata": {},
     "output_type": "execute_result"
    }
   ],
   "source": [
    "client.test.collection_names()"
   ]
  },
  {
   "cell_type": "code",
   "execution_count": 20,
   "metadata": {},
   "outputs": [
    {
     "data": {
      "text/plain": [
       "{'_id_': {'v': 2, 'key': [('_id', 1)], 'ns': 'test.packt_authors'},\n",
       " 'name_1': {'v': 2, 'key': [('name', 1)], 'ns': 'test.packt_authors'},\n",
       " 'name_1_tags_1': {'v': 2,\n",
       "  'key': [('name', 1), ('tags', 1)],\n",
       "  'ns': 'test.packt_authors',\n",
       "  'background': True,\n",
       "  'sparse': True}}"
      ]
     },
     "execution_count": 20,
     "metadata": {},
     "output_type": "execute_result"
    }
   ],
   "source": [
    "client.test.packt_authors.index_information()"
   ]
  },
  {
   "cell_type": "code",
   "execution_count": 21,
   "metadata": {},
   "outputs": [
    {
     "data": {
      "text/plain": [
       "{'db': 'test',\n",
       " 'collections': 1,\n",
       " 'views': 0,\n",
       " 'objects': 1,\n",
       " 'avgObjSize': 77.0,\n",
       " 'dataSize': 77.0,\n",
       " 'storageSize': 4096.0,\n",
       " 'numExtents': 0,\n",
       " 'indexes': 3,\n",
       " 'indexSize': 24576.0,\n",
       " 'fsUsedSize': 58643013632.0,\n",
       " 'fsTotalSize': 1000106745856.0,\n",
       " 'ok': 1.0}"
      ]
     },
     "execution_count": 21,
     "metadata": {},
     "output_type": "execute_result"
    }
   ],
   "source": [
    "db.command({'dbStats': 1})"
   ]
  },
  {
   "cell_type": "code",
   "execution_count": 22,
   "metadata": {},
   "outputs": [
    {
     "data": {
      "text/plain": [
       "{'ns': 'test.packt_authors',\n",
       " 'size': 77,\n",
       " 'count': 1,\n",
       " 'avgObjSize': 77,\n",
       " 'storageSize': 4096,\n",
       " 'capped': False,\n",
       " 'wiredTiger': {'metadata': {'formatVersion': 1},\n",
       "  'creationString': 'access_pattern_hint=none,allocation_size=4KB,app_metadata=(formatVersion=1),assert=(commit_timestamp=none,read_timestamp=none),block_allocation=best,block_compressor=snappy,cache_resident=false,checksum=on,colgroups=,collator=,columns=,dictionary=0,encryption=(keyid=,name=),exclusive=false,extractor=,format=btree,huffman_key=,huffman_value=,ignore_in_memory_cache_size=false,immutable=false,internal_item_max=0,internal_key_max=0,internal_key_truncate=true,internal_page_max=4KB,key_format=q,key_gap=10,leaf_item_max=0,leaf_key_max=0,leaf_page_max=32KB,leaf_value_max=64MB,log=(enabled=true),lsm=(auto_throttle=true,bloom=true,bloom_bit_count=16,bloom_config=,bloom_hash_count=8,bloom_oldest=false,chunk_count_limit=0,chunk_max=5GB,chunk_size=10MB,merge_custom=(prefix=,start_generation=0,suffix=),merge_max=15,merge_min=0),memory_page_max=10m,os_cache_dirty_max=0,os_cache_max=0,prefix_compression=false,prefix_compression_min=4,source=,split_deepen_min_child=0,split_deepen_per_child=0,split_pct=90,type=file,value_format=u',\n",
       "  'type': 'file',\n",
       "  'uri': 'statistics:table:collection-21-7629550725762367718',\n",
       "  'LSM': {'bloom filter false positives': 0,\n",
       "   'bloom filter hits': 0,\n",
       "   'bloom filter misses': 0,\n",
       "   'bloom filter pages evicted from cache': 0,\n",
       "   'bloom filter pages read into cache': 0,\n",
       "   'bloom filters in the LSM tree': 0,\n",
       "   'chunks in the LSM tree': 0,\n",
       "   'highest merge generation in the LSM tree': 0,\n",
       "   'queries that could have benefited from a Bloom filter that did not exist': 0,\n",
       "   'sleep for LSM checkpoint throttle': 0,\n",
       "   'sleep for LSM merge throttle': 0,\n",
       "   'total size of bloom filters': 0},\n",
       "  'block-manager': {'allocations requiring file extension': 0,\n",
       "   'blocks allocated': 0,\n",
       "   'blocks freed': 0,\n",
       "   'checkpoint size': 0,\n",
       "   'file allocation unit size': 4096,\n",
       "   'file bytes available for reuse': 0,\n",
       "   'file magic number': 120897,\n",
       "   'file major version number': 1,\n",
       "   'file size in bytes': 4096,\n",
       "   'minor version number': 0},\n",
       "  'btree': {'btree checkpoint generation': 0,\n",
       "   'column-store fixed-size leaf pages': 0,\n",
       "   'column-store internal pages': 0,\n",
       "   'column-store variable-size RLE encoded values': 0,\n",
       "   'column-store variable-size deleted values': 0,\n",
       "   'column-store variable-size leaf pages': 0,\n",
       "   'fixed-record size': 0,\n",
       "   'maximum internal page key size': 368,\n",
       "   'maximum internal page size': 4096,\n",
       "   'maximum leaf page key size': 2867,\n",
       "   'maximum leaf page size': 32768,\n",
       "   'maximum leaf page value size': 67108864,\n",
       "   'maximum tree depth': 3,\n",
       "   'number of key/value pairs': 0,\n",
       "   'overflow pages': 0,\n",
       "   'pages rewritten by compaction': 0,\n",
       "   'row-store internal pages': 0,\n",
       "   'row-store leaf pages': 0},\n",
       "  'cache': {'bytes currently in the cache': 1246,\n",
       "   'bytes read into cache': 0,\n",
       "   'bytes written from cache': 0,\n",
       "   'checkpoint blocked page eviction': 0,\n",
       "   'data source pages selected for eviction unable to be evicted': 0,\n",
       "   'eviction walk passes of a file': 0,\n",
       "   'eviction walk target pages histogram - 0-9': 0,\n",
       "   'eviction walk target pages histogram - 10-31': 0,\n",
       "   'eviction walk target pages histogram - 128 and higher': 0,\n",
       "   'eviction walk target pages histogram - 32-63': 0,\n",
       "   'eviction walk target pages histogram - 64-128': 0,\n",
       "   'eviction walks abandoned': 0,\n",
       "   'eviction walks gave up because they restarted their walk twice': 0,\n",
       "   'eviction walks gave up because they saw too many pages and found no candidates': 0,\n",
       "   'eviction walks gave up because they saw too many pages and found too few candidates': 0,\n",
       "   'eviction walks reached end of tree': 0,\n",
       "   'eviction walks started from root of tree': 0,\n",
       "   'eviction walks started from saved location in tree': 0,\n",
       "   'hazard pointer blocked page eviction': 0,\n",
       "   'in-memory page passed criteria to be split': 0,\n",
       "   'in-memory page splits': 0,\n",
       "   'internal pages evicted': 0,\n",
       "   'internal pages split during eviction': 0,\n",
       "   'leaf pages split during eviction': 0,\n",
       "   'modified pages evicted': 0,\n",
       "   'overflow pages read into cache': 0,\n",
       "   'page split during eviction deepened the tree': 0,\n",
       "   'page written requiring lookaside records': 0,\n",
       "   'pages read into cache': 0,\n",
       "   'pages read into cache after truncate': 1,\n",
       "   'pages read into cache after truncate in prepare state': 0,\n",
       "   'pages read into cache requiring lookaside entries': 0,\n",
       "   'pages requested from the cache': 18,\n",
       "   'pages seen by eviction walk': 0,\n",
       "   'pages written from cache': 0,\n",
       "   'pages written requiring in-memory restoration': 0,\n",
       "   'tracked dirty bytes in the cache': 1063,\n",
       "   'unmodified pages evicted': 0},\n",
       "  'cache_walk': {'Average difference between current eviction generation when the page was last considered': 0,\n",
       "   'Average on-disk page image size seen': 0,\n",
       "   'Average time in cache for pages that have been visited by the eviction server': 0,\n",
       "   'Average time in cache for pages that have not been visited by the eviction server': 0,\n",
       "   'Clean pages currently in cache': 0,\n",
       "   'Current eviction generation': 0,\n",
       "   'Dirty pages currently in cache': 0,\n",
       "   'Entries in the root page': 0,\n",
       "   'Internal pages currently in cache': 0,\n",
       "   'Leaf pages currently in cache': 0,\n",
       "   'Maximum difference between current eviction generation when the page was last considered': 0,\n",
       "   'Maximum page size seen': 0,\n",
       "   'Minimum on-disk page image size seen': 0,\n",
       "   'Number of pages never visited by eviction server': 0,\n",
       "   'On-disk page image sizes smaller than a single allocation unit': 0,\n",
       "   'Pages created in memory and never written': 0,\n",
       "   'Pages currently queued for eviction': 0,\n",
       "   'Pages that could not be queued for eviction': 0,\n",
       "   'Refs skipped during cache traversal': 0,\n",
       "   'Size of the root page': 0,\n",
       "   'Total number of pages currently in cache': 0},\n",
       "  'compression': {'compressed pages read': 0,\n",
       "   'compressed pages written': 0,\n",
       "   'page written failed to compress': 0,\n",
       "   'page written was too small to compress': 0,\n",
       "   'raw compression call failed, additional data available': 0,\n",
       "   'raw compression call failed, no additional data available': 0,\n",
       "   'raw compression call succeeded': 0},\n",
       "  'cursor': {'bulk-loaded cursor-insert calls': 0,\n",
       "   'create calls': 2,\n",
       "   'cursor-insert key and value bytes inserted': 267,\n",
       "   'cursor-remove key bytes removed': 0,\n",
       "   'cursor-update value bytes updated': 0,\n",
       "   'cursors cached on close': 0,\n",
       "   'cursors reused from cache': 0,\n",
       "   'insert calls': 4,\n",
       "   'modify calls': 0,\n",
       "   'next calls': 14,\n",
       "   'prev calls': 1,\n",
       "   'remove calls': 0,\n",
       "   'reserve calls': 0,\n",
       "   'reset calls': 22,\n",
       "   'restarted searches': 0,\n",
       "   'search calls': 6,\n",
       "   'search near calls': 2,\n",
       "   'truncate calls': 0,\n",
       "   'update calls': 0},\n",
       "  'reconciliation': {'dictionary matches': 0,\n",
       "   'fast-path pages deleted': 0,\n",
       "   'internal page key bytes discarded using suffix compression': 0,\n",
       "   'internal page multi-block writes': 0,\n",
       "   'internal-page overflow keys': 0,\n",
       "   'leaf page key bytes discarded using prefix compression': 0,\n",
       "   'leaf page multi-block writes': 0,\n",
       "   'leaf-page overflow keys': 0,\n",
       "   'maximum blocks required for a page': 0,\n",
       "   'overflow values written': 0,\n",
       "   'page checksum matches': 0,\n",
       "   'page reconciliation calls': 0,\n",
       "   'page reconciliation calls for eviction': 0,\n",
       "   'pages deleted': 0},\n",
       "  'session': {'cached cursor count': 0,\n",
       "   'object compaction': 0,\n",
       "   'open cursor count': 2},\n",
       "  'transaction': {'update conflicts': 0}},\n",
       " 'nindexes': 3,\n",
       " 'indexDetails': {'_id_': {'metadata': {'formatVersion': 8,\n",
       "    'infoObj': '{ \"v\" : 2, \"key\" : { \"_id\" : 1 }, \"name\" : \"_id_\", \"ns\" : \"test.packt_authors\" }'},\n",
       "   'creationString': 'access_pattern_hint=none,allocation_size=4KB,app_metadata=(formatVersion=8,infoObj={ \"v\" : 2, \"key\" : { \"_id\" : 1 }, \"name\" : \"_id_\", \"ns\" : \"test.packt_authors\" }),assert=(commit_timestamp=none,read_timestamp=none),block_allocation=best,block_compressor=,cache_resident=false,checksum=on,colgroups=,collator=,columns=,dictionary=0,encryption=(keyid=,name=),exclusive=false,extractor=,format=btree,huffman_key=,huffman_value=,ignore_in_memory_cache_size=false,immutable=false,internal_item_max=0,internal_key_max=0,internal_key_truncate=true,internal_page_max=16k,key_format=u,key_gap=10,leaf_item_max=0,leaf_key_max=0,leaf_page_max=16k,leaf_value_max=0,log=(enabled=true),lsm=(auto_throttle=true,bloom=true,bloom_bit_count=16,bloom_config=,bloom_hash_count=8,bloom_oldest=false,chunk_count_limit=0,chunk_max=5GB,chunk_size=10MB,merge_custom=(prefix=,start_generation=0,suffix=),merge_max=15,merge_min=0),memory_page_max=5MB,os_cache_dirty_max=0,os_cache_max=0,prefix_compression=true,prefix_compression_min=4,source=,split_deepen_min_child=0,split_deepen_per_child=0,split_pct=90,type=file,value_format=u',\n",
       "   'type': 'file',\n",
       "   'uri': 'statistics:table:index-22-7629550725762367718',\n",
       "   'LSM': {'bloom filter false positives': 0,\n",
       "    'bloom filter hits': 0,\n",
       "    'bloom filter misses': 0,\n",
       "    'bloom filter pages evicted from cache': 0,\n",
       "    'bloom filter pages read into cache': 0,\n",
       "    'bloom filters in the LSM tree': 0,\n",
       "    'chunks in the LSM tree': 0,\n",
       "    'highest merge generation in the LSM tree': 0,\n",
       "    'queries that could have benefited from a Bloom filter that did not exist': 0,\n",
       "    'sleep for LSM checkpoint throttle': 0,\n",
       "    'sleep for LSM merge throttle': 0,\n",
       "    'total size of bloom filters': 0},\n",
       "   'block-manager': {'allocations requiring file extension': 0,\n",
       "    'blocks allocated': 0,\n",
       "    'blocks freed': 0,\n",
       "    'checkpoint size': 0,\n",
       "    'file allocation unit size': 4096,\n",
       "    'file bytes available for reuse': 0,\n",
       "    'file magic number': 120897,\n",
       "    'file major version number': 1,\n",
       "    'file size in bytes': 4096,\n",
       "    'minor version number': 0},\n",
       "   'btree': {'btree checkpoint generation': 0,\n",
       "    'column-store fixed-size leaf pages': 0,\n",
       "    'column-store internal pages': 0,\n",
       "    'column-store variable-size RLE encoded values': 0,\n",
       "    'column-store variable-size deleted values': 0,\n",
       "    'column-store variable-size leaf pages': 0,\n",
       "    'fixed-record size': 0,\n",
       "    'maximum internal page key size': 1474,\n",
       "    'maximum internal page size': 16384,\n",
       "    'maximum leaf page key size': 1474,\n",
       "    'maximum leaf page size': 16384,\n",
       "    'maximum leaf page value size': 7372,\n",
       "    'maximum tree depth': 3,\n",
       "    'number of key/value pairs': 0,\n",
       "    'overflow pages': 0,\n",
       "    'pages rewritten by compaction': 0,\n",
       "    'row-store internal pages': 0,\n",
       "    'row-store leaf pages': 0},\n",
       "   'cache': {'bytes currently in the cache': 811,\n",
       "    'bytes read into cache': 0,\n",
       "    'bytes written from cache': 0,\n",
       "    'checkpoint blocked page eviction': 0,\n",
       "    'data source pages selected for eviction unable to be evicted': 0,\n",
       "    'eviction walk passes of a file': 0,\n",
       "    'eviction walk target pages histogram - 0-9': 0,\n",
       "    'eviction walk target pages histogram - 10-31': 0,\n",
       "    'eviction walk target pages histogram - 128 and higher': 0,\n",
       "    'eviction walk target pages histogram - 32-63': 0,\n",
       "    'eviction walk target pages histogram - 64-128': 0,\n",
       "    'eviction walks abandoned': 0,\n",
       "    'eviction walks gave up because they restarted their walk twice': 0,\n",
       "    'eviction walks gave up because they saw too many pages and found no candidates': 0,\n",
       "    'eviction walks gave up because they saw too many pages and found too few candidates': 0,\n",
       "    'eviction walks reached end of tree': 0,\n",
       "    'eviction walks started from root of tree': 0,\n",
       "    'eviction walks started from saved location in tree': 0,\n",
       "    'hazard pointer blocked page eviction': 0,\n",
       "    'in-memory page passed criteria to be split': 0,\n",
       "    'in-memory page splits': 0,\n",
       "    'internal pages evicted': 0,\n",
       "    'internal pages split during eviction': 0,\n",
       "    'leaf pages split during eviction': 0,\n",
       "    'modified pages evicted': 0,\n",
       "    'overflow pages read into cache': 0,\n",
       "    'page split during eviction deepened the tree': 0,\n",
       "    'page written requiring lookaside records': 0,\n",
       "    'pages read into cache': 0,\n",
       "    'pages read into cache after truncate': 1,\n",
       "    'pages read into cache after truncate in prepare state': 0,\n",
       "    'pages read into cache requiring lookaside entries': 0,\n",
       "    'pages requested from the cache': 4,\n",
       "    'pages seen by eviction walk': 0,\n",
       "    'pages written from cache': 0,\n",
       "    'pages written requiring in-memory restoration': 0,\n",
       "    'tracked dirty bytes in the cache': 628,\n",
       "    'unmodified pages evicted': 0},\n",
       "   'cache_walk': {'Average difference between current eviction generation when the page was last considered': 0,\n",
       "    'Average on-disk page image size seen': 0,\n",
       "    'Average time in cache for pages that have been visited by the eviction server': 0,\n",
       "    'Average time in cache for pages that have not been visited by the eviction server': 0,\n",
       "    'Clean pages currently in cache': 0,\n",
       "    'Current eviction generation': 0,\n",
       "    'Dirty pages currently in cache': 0,\n",
       "    'Entries in the root page': 0,\n",
       "    'Internal pages currently in cache': 0,\n",
       "    'Leaf pages currently in cache': 0,\n",
       "    'Maximum difference between current eviction generation when the page was last considered': 0,\n",
       "    'Maximum page size seen': 0,\n",
       "    'Minimum on-disk page image size seen': 0,\n",
       "    'Number of pages never visited by eviction server': 0,\n",
       "    'On-disk page image sizes smaller than a single allocation unit': 0,\n",
       "    'Pages created in memory and never written': 0,\n",
       "    'Pages currently queued for eviction': 0,\n",
       "    'Pages that could not be queued for eviction': 0,\n",
       "    'Refs skipped during cache traversal': 0,\n",
       "    'Size of the root page': 0,\n",
       "    'Total number of pages currently in cache': 0},\n",
       "   'compression': {'compressed pages read': 0,\n",
       "    'compressed pages written': 0,\n",
       "    'page written failed to compress': 0,\n",
       "    'page written was too small to compress': 0,\n",
       "    'raw compression call failed, additional data available': 0,\n",
       "    'raw compression call failed, no additional data available': 0,\n",
       "    'raw compression call succeeded': 0},\n",
       "   'cursor': {'bulk-loaded cursor-insert calls': 0,\n",
       "    'create calls': 1,\n",
       "    'cursor-insert key and value bytes inserted': 16,\n",
       "    'cursor-remove key bytes removed': 0,\n",
       "    'cursor-update value bytes updated': 0,\n",
       "    'cursors cached on close': 0,\n",
       "    'cursors reused from cache': 0,\n",
       "    'insert calls': 1,\n",
       "    'modify calls': 0,\n",
       "    'next calls': 0,\n",
       "    'prev calls': 0,\n",
       "    'remove calls': 0,\n",
       "    'reserve calls': 0,\n",
       "    'reset calls': 4,\n",
       "    'restarted searches': 0,\n",
       "    'search calls': 3,\n",
       "    'search near calls': 0,\n",
       "    'truncate calls': 0,\n",
       "    'update calls': 0},\n",
       "   'reconciliation': {'dictionary matches': 0,\n",
       "    'fast-path pages deleted': 0,\n",
       "    'internal page key bytes discarded using suffix compression': 0,\n",
       "    'internal page multi-block writes': 0,\n",
       "    'internal-page overflow keys': 0,\n",
       "    'leaf page key bytes discarded using prefix compression': 0,\n",
       "    'leaf page multi-block writes': 0,\n",
       "    'leaf-page overflow keys': 0,\n",
       "    'maximum blocks required for a page': 0,\n",
       "    'overflow values written': 0,\n",
       "    'page checksum matches': 0,\n",
       "    'page reconciliation calls': 0,\n",
       "    'page reconciliation calls for eviction': 0,\n",
       "    'pages deleted': 0},\n",
       "   'session': {'cached cursor count': 0,\n",
       "    'object compaction': 0,\n",
       "    'open cursor count': 1},\n",
       "   'transaction': {'update conflicts': 0}},\n",
       "  'name_1': {'metadata': {'formatVersion': 8,\n",
       "    'infoObj': '{ \"v\" : 2, \"key\" : { \"name\" : 1 }, \"name\" : \"name_1\", \"ns\" : \"test.packt_authors\" }'},\n",
       "   'creationString': 'access_pattern_hint=none,allocation_size=4KB,app_metadata=(formatVersion=8,infoObj={ \"v\" : 2, \"key\" : { \"name\" : 1 }, \"name\" : \"name_1\", \"ns\" : \"test.packt_authors\" }),assert=(commit_timestamp=none,read_timestamp=none),block_allocation=best,block_compressor=,cache_resident=false,checksum=on,colgroups=,collator=,columns=,dictionary=0,encryption=(keyid=,name=),exclusive=false,extractor=,format=btree,huffman_key=,huffman_value=,ignore_in_memory_cache_size=false,immutable=false,internal_item_max=0,internal_key_max=0,internal_key_truncate=true,internal_page_max=16k,key_format=u,key_gap=10,leaf_item_max=0,leaf_key_max=0,leaf_page_max=16k,leaf_value_max=0,log=(enabled=true),lsm=(auto_throttle=true,bloom=true,bloom_bit_count=16,bloom_config=,bloom_hash_count=8,bloom_oldest=false,chunk_count_limit=0,chunk_max=5GB,chunk_size=10MB,merge_custom=(prefix=,start_generation=0,suffix=),merge_max=15,merge_min=0),memory_page_max=5MB,os_cache_dirty_max=0,os_cache_max=0,prefix_compression=true,prefix_compression_min=4,source=,split_deepen_min_child=0,split_deepen_per_child=0,split_pct=90,type=file,value_format=u',\n",
       "   'type': 'file',\n",
       "   'uri': 'statistics:table:index-23-7629550725762367718',\n",
       "   'LSM': {'bloom filter false positives': 0,\n",
       "    'bloom filter hits': 0,\n",
       "    'bloom filter misses': 0,\n",
       "    'bloom filter pages evicted from cache': 0,\n",
       "    'bloom filter pages read into cache': 0,\n",
       "    'bloom filters in the LSM tree': 0,\n",
       "    'chunks in the LSM tree': 0,\n",
       "    'highest merge generation in the LSM tree': 0,\n",
       "    'queries that could have benefited from a Bloom filter that did not exist': 0,\n",
       "    'sleep for LSM checkpoint throttle': 0,\n",
       "    'sleep for LSM merge throttle': 0,\n",
       "    'total size of bloom filters': 0},\n",
       "   'block-manager': {'allocations requiring file extension': 3,\n",
       "    'blocks allocated': 3,\n",
       "    'blocks freed': 0,\n",
       "    'checkpoint size': 4096,\n",
       "    'file allocation unit size': 4096,\n",
       "    'file bytes available for reuse': 0,\n",
       "    'file magic number': 120897,\n",
       "    'file major version number': 1,\n",
       "    'file size in bytes': 16384,\n",
       "    'minor version number': 0},\n",
       "   'btree': {'btree checkpoint generation': 0,\n",
       "    'column-store fixed-size leaf pages': 0,\n",
       "    'column-store internal pages': 0,\n",
       "    'column-store variable-size RLE encoded values': 0,\n",
       "    'column-store variable-size deleted values': 0,\n",
       "    'column-store variable-size leaf pages': 0,\n",
       "    'fixed-record size': 0,\n",
       "    'maximum internal page key size': 1474,\n",
       "    'maximum internal page size': 16384,\n",
       "    'maximum leaf page key size': 1474,\n",
       "    'maximum leaf page size': 16384,\n",
       "    'maximum leaf page value size': 7372,\n",
       "    'maximum tree depth': 0,\n",
       "    'number of key/value pairs': 0,\n",
       "    'overflow pages': 0,\n",
       "    'pages rewritten by compaction': 0,\n",
       "    'row-store internal pages': 0,\n",
       "    'row-store leaf pages': 0},\n",
       "   'cache': {'bytes currently in the cache': 227,\n",
       "    'bytes read into cache': 51,\n",
       "    'bytes written from cache': 102,\n",
       "    'checkpoint blocked page eviction': 0,\n",
       "    'data source pages selected for eviction unable to be evicted': 0,\n",
       "    'eviction walk passes of a file': 0,\n",
       "    'eviction walk target pages histogram - 0-9': 0,\n",
       "    'eviction walk target pages histogram - 10-31': 0,\n",
       "    'eviction walk target pages histogram - 128 and higher': 0,\n",
       "    'eviction walk target pages histogram - 32-63': 0,\n",
       "    'eviction walk target pages histogram - 64-128': 0,\n",
       "    'eviction walks abandoned': 0,\n",
       "    'eviction walks gave up because they restarted their walk twice': 0,\n",
       "    'eviction walks gave up because they saw too many pages and found no candidates': 0,\n",
       "    'eviction walks gave up because they saw too many pages and found too few candidates': 0,\n",
       "    'eviction walks reached end of tree': 0,\n",
       "    'eviction walks started from root of tree': 0,\n",
       "    'eviction walks started from saved location in tree': 0,\n",
       "    'hazard pointer blocked page eviction': 0,\n",
       "    'in-memory page passed criteria to be split': 0,\n",
       "    'in-memory page splits': 0,\n",
       "    'internal pages evicted': 0,\n",
       "    'internal pages split during eviction': 0,\n",
       "    'leaf pages split during eviction': 0,\n",
       "    'modified pages evicted': 2,\n",
       "    'overflow pages read into cache': 0,\n",
       "    'page split during eviction deepened the tree': 0,\n",
       "    'page written requiring lookaside records': 0,\n",
       "    'pages read into cache': 1,\n",
       "    'pages read into cache after truncate': 0,\n",
       "    'pages read into cache after truncate in prepare state': 0,\n",
       "    'pages read into cache requiring lookaside entries': 0,\n",
       "    'pages requested from the cache': 0,\n",
       "    'pages seen by eviction walk': 0,\n",
       "    'pages written from cache': 2,\n",
       "    'pages written requiring in-memory restoration': 0,\n",
       "    'tracked dirty bytes in the cache': 0,\n",
       "    'unmodified pages evicted': 0},\n",
       "   'cache_walk': {'Average difference between current eviction generation when the page was last considered': 0,\n",
       "    'Average on-disk page image size seen': 0,\n",
       "    'Average time in cache for pages that have been visited by the eviction server': 0,\n",
       "    'Average time in cache for pages that have not been visited by the eviction server': 0,\n",
       "    'Clean pages currently in cache': 0,\n",
       "    'Current eviction generation': 0,\n",
       "    'Dirty pages currently in cache': 0,\n",
       "    'Entries in the root page': 0,\n",
       "    'Internal pages currently in cache': 0,\n",
       "    'Leaf pages currently in cache': 0,\n",
       "    'Maximum difference between current eviction generation when the page was last considered': 0,\n",
       "    'Maximum page size seen': 0,\n",
       "    'Minimum on-disk page image size seen': 0,\n",
       "    'Number of pages never visited by eviction server': 0,\n",
       "    'On-disk page image sizes smaller than a single allocation unit': 0,\n",
       "    'Pages created in memory and never written': 0,\n",
       "    'Pages currently queued for eviction': 0,\n",
       "    'Pages that could not be queued for eviction': 0,\n",
       "    'Refs skipped during cache traversal': 0,\n",
       "    'Size of the root page': 0,\n",
       "    'Total number of pages currently in cache': 0},\n",
       "   'compression': {'compressed pages read': 0,\n",
       "    'compressed pages written': 0,\n",
       "    'page written failed to compress': 0,\n",
       "    'page written was too small to compress': 0,\n",
       "    'raw compression call failed, additional data available': 0,\n",
       "    'raw compression call failed, no additional data available': 0,\n",
       "    'raw compression call succeeded': 0},\n",
       "   'cursor': {'bulk-loaded cursor-insert calls': 1,\n",
       "    'create calls': 1,\n",
       "    'cursor-insert key and value bytes inserted': 0,\n",
       "    'cursor-remove key bytes removed': 0,\n",
       "    'cursor-update value bytes updated': 0,\n",
       "    'cursors cached on close': 0,\n",
       "    'cursors reused from cache': 0,\n",
       "    'insert calls': 0,\n",
       "    'modify calls': 0,\n",
       "    'next calls': 0,\n",
       "    'prev calls': 0,\n",
       "    'remove calls': 0,\n",
       "    'reserve calls': 0,\n",
       "    'reset calls': 0,\n",
       "    'restarted searches': 0,\n",
       "    'search calls': 0,\n",
       "    'search near calls': 0,\n",
       "    'truncate calls': 0,\n",
       "    'update calls': 0},\n",
       "   'reconciliation': {'dictionary matches': 0,\n",
       "    'fast-path pages deleted': 0,\n",
       "    'internal page key bytes discarded using suffix compression': 0,\n",
       "    'internal page multi-block writes': 0,\n",
       "    'internal-page overflow keys': 0,\n",
       "    'leaf page key bytes discarded using prefix compression': 0,\n",
       "    'leaf page multi-block writes': 0,\n",
       "    'leaf-page overflow keys': 0,\n",
       "    'maximum blocks required for a page': 0,\n",
       "    'overflow values written': 0,\n",
       "    'page checksum matches': 0,\n",
       "    'page reconciliation calls': 1,\n",
       "    'page reconciliation calls for eviction': 1,\n",
       "    'pages deleted': 0},\n",
       "   'session': {'cached cursor count': 0,\n",
       "    'object compaction': 0,\n",
       "    'open cursor count': 0},\n",
       "   'transaction': {'update conflicts': 0}},\n",
       "  'name_1_tags_1': {'metadata': {'formatVersion': 8,\n",
       "    'infoObj': '{ \"v\" : 2, \"key\" : { \"name\" : 1, \"tags\" : 1 }, \"name\" : \"name_1_tags_1\", \"ns\" : \"test.packt_authors\", \"background\" : true, \"sparse\" : true }'},\n",
       "   'creationString': 'access_pattern_hint=none,allocation_size=4KB,app_metadata=(formatVersion=8,infoObj={ \"v\" : 2, \"key\" : { \"name\" : 1, \"tags\" : 1 }, \"name\" : \"name_1_tags_1\", \"ns\" : \"test.packt_authors\", \"background\" : true, \"sparse\" : true }),assert=(commit_timestamp=none,read_timestamp=none),block_allocation=best,block_compressor=,cache_resident=false,checksum=on,colgroups=,collator=,columns=,dictionary=0,encryption=(keyid=,name=),exclusive=false,extractor=,format=btree,huffman_key=,huffman_value=,ignore_in_memory_cache_size=false,immutable=false,internal_item_max=0,internal_key_max=0,internal_key_truncate=true,internal_page_max=16k,key_format=u,key_gap=10,leaf_item_max=0,leaf_key_max=0,leaf_page_max=16k,leaf_value_max=0,log=(enabled=true),lsm=(auto_throttle=true,bloom=true,bloom_bit_count=16,bloom_config=,bloom_hash_count=8,bloom_oldest=false,chunk_count_limit=0,chunk_max=5GB,chunk_size=10MB,merge_custom=(prefix=,start_generation=0,suffix=),merge_max=15,merge_min=0),memory_page_max=5MB,os_cache_dirty_max=0,os_cache_max=0,prefix_compression=true,prefix_compression_min=4,source=,split_deepen_min_child=0,split_deepen_per_child=0,split_pct=90,type=file,value_format=u',\n",
       "   'type': 'file',\n",
       "   'uri': 'statistics:table:index-24-7629550725762367718',\n",
       "   'LSM': {'bloom filter false positives': 0,\n",
       "    'bloom filter hits': 0,\n",
       "    'bloom filter misses': 0,\n",
       "    'bloom filter pages evicted from cache': 0,\n",
       "    'bloom filter pages read into cache': 0,\n",
       "    'bloom filters in the LSM tree': 0,\n",
       "    'chunks in the LSM tree': 0,\n",
       "    'highest merge generation in the LSM tree': 0,\n",
       "    'queries that could have benefited from a Bloom filter that did not exist': 0,\n",
       "    'sleep for LSM checkpoint throttle': 0,\n",
       "    'sleep for LSM merge throttle': 0,\n",
       "    'total size of bloom filters': 0},\n",
       "   'block-manager': {'allocations requiring file extension': 0,\n",
       "    'blocks allocated': 0,\n",
       "    'blocks freed': 0,\n",
       "    'checkpoint size': 0,\n",
       "    'file allocation unit size': 4096,\n",
       "    'file bytes available for reuse': 0,\n",
       "    'file magic number': 120897,\n",
       "    'file major version number': 1,\n",
       "    'file size in bytes': 4096,\n",
       "    'minor version number': 0},\n",
       "   'btree': {'btree checkpoint generation': 0,\n",
       "    'column-store fixed-size leaf pages': 0,\n",
       "    'column-store internal pages': 0,\n",
       "    'column-store variable-size RLE encoded values': 0,\n",
       "    'column-store variable-size deleted values': 0,\n",
       "    'column-store variable-size leaf pages': 0,\n",
       "    'fixed-record size': 0,\n",
       "    'maximum internal page key size': 1474,\n",
       "    'maximum internal page size': 16384,\n",
       "    'maximum leaf page key size': 1474,\n",
       "    'maximum leaf page size': 16384,\n",
       "    'maximum leaf page value size': 7372,\n",
       "    'maximum tree depth': 3,\n",
       "    'number of key/value pairs': 0,\n",
       "    'overflow pages': 0,\n",
       "    'pages rewritten by compaction': 0,\n",
       "    'row-store internal pages': 0,\n",
       "    'row-store leaf pages': 0},\n",
       "   'cache': {'bytes currently in the cache': 911,\n",
       "    'bytes read into cache': 0,\n",
       "    'bytes written from cache': 0,\n",
       "    'checkpoint blocked page eviction': 0,\n",
       "    'data source pages selected for eviction unable to be evicted': 0,\n",
       "    'eviction walk passes of a file': 0,\n",
       "    'eviction walk target pages histogram - 0-9': 0,\n",
       "    'eviction walk target pages histogram - 10-31': 0,\n",
       "    'eviction walk target pages histogram - 128 and higher': 0,\n",
       "    'eviction walk target pages histogram - 32-63': 0,\n",
       "    'eviction walk target pages histogram - 64-128': 0,\n",
       "    'eviction walks abandoned': 0,\n",
       "    'eviction walks gave up because they restarted their walk twice': 0,\n",
       "    'eviction walks gave up because they saw too many pages and found no candidates': 0,\n",
       "    'eviction walks gave up because they saw too many pages and found too few candidates': 0,\n",
       "    'eviction walks reached end of tree': 0,\n",
       "    'eviction walks started from root of tree': 0,\n",
       "    'eviction walks started from saved location in tree': 0,\n",
       "    'hazard pointer blocked page eviction': 0,\n",
       "    'in-memory page passed criteria to be split': 0,\n",
       "    'in-memory page splits': 0,\n",
       "    'internal pages evicted': 0,\n",
       "    'internal pages split during eviction': 0,\n",
       "    'leaf pages split during eviction': 0,\n",
       "    'modified pages evicted': 0,\n",
       "    'overflow pages read into cache': 0,\n",
       "    'page split during eviction deepened the tree': 0,\n",
       "    'page written requiring lookaside records': 0,\n",
       "    'pages read into cache': 0,\n",
       "    'pages read into cache after truncate': 1,\n",
       "    'pages read into cache after truncate in prepare state': 0,\n",
       "    'pages read into cache requiring lookaside entries': 0,\n",
       "    'pages requested from the cache': 2,\n",
       "    'pages seen by eviction walk': 0,\n",
       "    'pages written from cache': 0,\n",
       "    'pages written requiring in-memory restoration': 0,\n",
       "    'tracked dirty bytes in the cache': 729,\n",
       "    'unmodified pages evicted': 0},\n",
       "   'cache_walk': {'Average difference between current eviction generation when the page was last considered': 0,\n",
       "    'Average on-disk page image size seen': 0,\n",
       "    'Average time in cache for pages that have been visited by the eviction server': 0,\n",
       "    'Average time in cache for pages that have not been visited by the eviction server': 0,\n",
       "    'Clean pages currently in cache': 0,\n",
       "    'Current eviction generation': 0,\n",
       "    'Dirty pages currently in cache': 0,\n",
       "    'Entries in the root page': 0,\n",
       "    'Internal pages currently in cache': 0,\n",
       "    'Leaf pages currently in cache': 0,\n",
       "    'Maximum difference between current eviction generation when the page was last considered': 0,\n",
       "    'Maximum page size seen': 0,\n",
       "    'Minimum on-disk page image size seen': 0,\n",
       "    'Number of pages never visited by eviction server': 0,\n",
       "    'On-disk page image sizes smaller than a single allocation unit': 0,\n",
       "    'Pages created in memory and never written': 0,\n",
       "    'Pages currently queued for eviction': 0,\n",
       "    'Pages that could not be queued for eviction': 0,\n",
       "    'Refs skipped during cache traversal': 0,\n",
       "    'Size of the root page': 0,\n",
       "    'Total number of pages currently in cache': 0},\n",
       "   'compression': {'compressed pages read': 0,\n",
       "    'compressed pages written': 0,\n",
       "    'page written failed to compress': 0,\n",
       "    'page written was too small to compress': 0,\n",
       "    'raw compression call failed, additional data available': 0,\n",
       "    'raw compression call failed, no additional data available': 0,\n",
       "    'raw compression call succeeded': 0},\n",
       "   'cursor': {'bulk-loaded cursor-insert calls': 0,\n",
       "    'create calls': 1,\n",
       "    'cursor-insert key and value bytes inserted': 35,\n",
       "    'cursor-remove key bytes removed': 0,\n",
       "    'cursor-update value bytes updated': 0,\n",
       "    'cursors cached on close': 0,\n",
       "    'cursors reused from cache': 0,\n",
       "    'insert calls': 2,\n",
       "    'modify calls': 0,\n",
       "    'next calls': 0,\n",
       "    'prev calls': 0,\n",
       "    'remove calls': 0,\n",
       "    'reserve calls': 0,\n",
       "    'reset calls': 2,\n",
       "    'restarted searches': 0,\n",
       "    'search calls': 0,\n",
       "    'search near calls': 0,\n",
       "    'truncate calls': 0,\n",
       "    'update calls': 0},\n",
       "   'reconciliation': {'dictionary matches': 0,\n",
       "    'fast-path pages deleted': 0,\n",
       "    'internal page key bytes discarded using suffix compression': 0,\n",
       "    'internal page multi-block writes': 0,\n",
       "    'internal-page overflow keys': 0,\n",
       "    'leaf page key bytes discarded using prefix compression': 0,\n",
       "    'leaf page multi-block writes': 0,\n",
       "    'leaf-page overflow keys': 0,\n",
       "    'maximum blocks required for a page': 0,\n",
       "    'overflow values written': 0,\n",
       "    'page checksum matches': 0,\n",
       "    'page reconciliation calls': 0,\n",
       "    'page reconciliation calls for eviction': 0,\n",
       "    'pages deleted': 0},\n",
       "   'session': {'cached cursor count': 0,\n",
       "    'object compaction': 0,\n",
       "    'open cursor count': 1},\n",
       "   'transaction': {'update conflicts': 0}}},\n",
       " 'totalIndexSize': 24576,\n",
       " 'indexSizes': {'_id_': 4096, 'name_1': 16384, 'name_1_tags_1': 4096},\n",
       " 'ok': 1.0}"
      ]
     },
     "execution_count": 22,
     "metadata": {},
     "output_type": "execute_result"
    }
   ],
   "source": [
    "db.command({'collStats': 'packt_authors'})"
   ]
  },
  {
   "cell_type": "code",
   "execution_count": 23,
   "metadata": {},
   "outputs": [
    {
     "data": {
      "text/plain": [
       "{'version': '3.6.5',\n",
       " 'gitVersion': 'a20ecd3e3a174162052ff99913bc2ca9a839d618',\n",
       " 'modules': [],\n",
       " 'allocator': 'system',\n",
       " 'javascriptEngine': 'mozjs',\n",
       " 'sysInfo': 'deprecated',\n",
       " 'versionArray': [3, 6, 5, 0],\n",
       " 'openssl': {'running': 'OpenSSL 1.0.2o  27 Mar 2018',\n",
       "  'compiled': 'OpenSSL 1.0.2o  27 Mar 2018'},\n",
       " 'buildEnvironment': {'distmod': '',\n",
       "  'distarch': 'x86_64',\n",
       "  'cc': '/usr/bin/clang: Apple LLVM version 9.1.0 (clang-902.0.39.1)',\n",
       "  'ccflags': '-I/usr/local/opt/openssl/include -fno-omit-frame-pointer -fno-strict-aliasing -ggdb -pthread -Wall -Wsign-compare -Wno-unknown-pragmas -Winvalid-pch -O2 -Wno-unused-local-typedefs -Wno-unused-function -Wno-unused-private-field -Wno-deprecated-declarations -Wno-tautological-constant-out-of-range-compare -Wno-unused-const-variable -Wno-missing-braces -Wno-inconsistent-missing-override -Wno-potentially-evaluated-expression -Wno-unused-lambda-capture -Wno-exceptions -fstack-protector-strong -fno-builtin-memcmp',\n",
       "  'cxx': '/usr/bin/clang++ -stdlib=libc++: Apple LLVM version 9.1.0 (clang-902.0.39.1)',\n",
       "  'cxxflags': '-Woverloaded-virtual -Werror=unused-result -Wpessimizing-move -Wredundant-move -Wno-undefined-var-template -Wno-instantiation-after-specialization -std=c++14',\n",
       "  'linkflags': '-L/usr/local/opt/openssl/lib -Wl,-bind_at_load -fstack-protector-strong',\n",
       "  'target_arch': 'x86_64',\n",
       "  'target_os': 'macOS'},\n",
       " 'bits': 64,\n",
       " 'debug': False,\n",
       " 'maxBsonObjectSize': 16777216,\n",
       " 'storageEngines': ['devnull', 'ephemeralForTest', 'mmapv1', 'wiredTiger'],\n",
       " 'ok': 1.0}"
      ]
     },
     "execution_count": 23,
     "metadata": {},
     "output_type": "execute_result"
    }
   ],
   "source": [
    "client.server_info()"
   ]
  }
 ],
 "metadata": {
  "kernelspec": {
   "display_name": "Python 3",
   "language": "python",
   "name": "python3"
  },
  "language_info": {
   "codemirror_mode": {
    "name": "ipython",
    "version": 3
   },
   "file_extension": ".py",
   "mimetype": "text/x-python",
   "name": "python",
   "nbconvert_exporter": "python",
   "pygments_lexer": "ipython3",
   "version": "3.6.5"
  }
 },
 "nbformat": 4,
 "nbformat_minor": 2
}
