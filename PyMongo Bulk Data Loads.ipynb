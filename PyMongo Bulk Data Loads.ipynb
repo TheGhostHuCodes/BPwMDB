{
 "cells": [
  {
   "cell_type": "markdown",
   "metadata": {},
   "source": [
    "# Inserting Multiple Documents"
   ]
  },
  {
   "cell_type": "code",
   "execution_count": 1,
   "metadata": {},
   "outputs": [],
   "source": [
    "import pymongo\n",
    "client = pymongo.MongoClient()\n",
    "db = client.test"
   ]
  },
  {
   "cell_type": "code",
   "execution_count": 2,
   "metadata": {},
   "outputs": [
    {
     "data": {
      "text/plain": [
       "<pymongo.results.InsertManyResult at 0x106e64c48>"
      ]
     },
     "execution_count": 2,
     "metadata": {},
     "output_type": "execute_result"
    }
   ],
   "source": [
    "videos = [\n",
    "    {'title': 'Python Design Patterns'},\n",
    "    {'title': 'Bootstrap 4 Projects'},\n",
    "    {'title': 'Ethical Hacking for Beginners'},\n",
    "    {'title': 'Expert Ruby on Rails 5'}\n",
    "]\n",
    "db.packt_videos.drop()\n",
    "result = db.packt_videos.insert_many(videos)\n",
    "result"
   ]
  },
  {
   "cell_type": "code",
   "execution_count": 3,
   "metadata": {},
   "outputs": [
    {
     "data": {
      "text/plain": [
       "[ObjectId('5b3418ae722c7d6718c731c2'),\n",
       " ObjectId('5b3418ae722c7d6718c731c3'),\n",
       " ObjectId('5b3418ae722c7d6718c731c4'),\n",
       " ObjectId('5b3418ae722c7d6718c731c5')]"
      ]
     },
     "execution_count": 3,
     "metadata": {},
     "output_type": "execute_result"
    }
   ],
   "source": [
    "result.inserted_ids"
   ]
  },
  {
   "cell_type": "code",
   "execution_count": 4,
   "metadata": {},
   "outputs": [
    {
     "data": {
      "text/plain": [
       "[{'_id': ObjectId('5b3418ae722c7d6718c731c2'),\n",
       "  'title': 'Python Design Patterns'},\n",
       " {'_id': ObjectId('5b3418ae722c7d6718c731c3'),\n",
       "  'title': 'Bootstrap 4 Projects'},\n",
       " {'_id': ObjectId('5b3418ae722c7d6718c731c4'),\n",
       "  'title': 'Ethical Hacking for Beginners'},\n",
       " {'_id': ObjectId('5b3418ae722c7d6718c731c5'),\n",
       "  'title': 'Expert Ruby on Rails 5'}]"
      ]
     },
     "execution_count": 4,
     "metadata": {},
     "output_type": "execute_result"
    }
   ],
   "source": [
    "list(db.packt_videos.find())"
   ]
  },
  {
   "cell_type": "markdown",
   "metadata": {},
   "source": [
    "# Compound Bulk Operations"
   ]
  },
  {
   "cell_type": "code",
   "execution_count": 5,
   "metadata": {},
   "outputs": [
    {
     "name": "stdout",
     "output_type": "stream",
     "text": [
      "{'nInserted': 0,\n",
      " 'nMatched': 3,\n",
      " 'nModified': 3,\n",
      " 'nRemoved': 0,\n",
      " 'nUpserted': 1,\n",
      " 'upserted': [{'_id': ObjectId('5b3418aecd139b5227d8ad69'), 'index': 3}],\n",
      " 'writeConcernErrors': [],\n",
      " 'writeErrors': []}\n"
     ]
    }
   ],
   "source": [
    "from pprint import pprint\n",
    "from pymongo import UpdateMany\n",
    "\n",
    "\n",
    "videos = [\n",
    "    {'title': 'Python Design Patterns', 'authors': ['Gergo Bogdan']},\n",
    "    {'title': 'Bootstrap 4 Projects', 'authors': ['Aaron Vanston']},\n",
    "    {'title': 'Ethical Hacking for Beginners', 'authors': ['Fred Heath']},\n",
    "    {'title': 'OpenFrame works Interactivity', 'authors': ['Denis Perevalov', 'Igor Tatarnikov']}\n",
    "]\n",
    "\n",
    "bulk = db.packt_videos.bulk_write([\n",
    "    UpdateMany({'title': video['title']}, {'$addToSet': {'authors': {'$each': video['authors']}}}, upsert=True)\n",
    "for video in videos])\n",
    "\n",
    "pprint(bulk.bulk_api_result)"
   ]
  },
  {
   "cell_type": "code",
   "execution_count": 6,
   "metadata": {},
   "outputs": [
    {
     "data": {
      "text/plain": [
       "[{'title': 'Python Design Patterns', 'authors': ['Gergo Bogdan']},\n",
       " {'title': 'Bootstrap 4 Projects', 'authors': ['Aaron Vanston']},\n",
       " {'title': 'Ethical Hacking for Beginners', 'authors': ['Fred Heath']},\n",
       " {'title': 'Expert Ruby on Rails 5'},\n",
       " {'title': 'OpenFrame works Interactivity',\n",
       "  'authors': ['Denis Perevalov', 'Igor Tatarnikov']}]"
      ]
     },
     "execution_count": 6,
     "metadata": {},
     "output_type": "execute_result"
    }
   ],
   "source": [
    "list(db.packt_videos.find({}, {'_id': 0}))"
   ]
  },
  {
   "cell_type": "markdown",
   "metadata": {},
   "source": [
    "# Handling Errors"
   ]
  },
  {
   "cell_type": "code",
   "execution_count": 7,
   "metadata": {},
   "outputs": [
    {
     "data": {
      "text/plain": [
       "{'_id': ObjectId('5b3418ae722c7d6718c731c2'),\n",
       " 'title': 'Python Design Patterns',\n",
       " 'authors': ['Gergo Bogdan']}"
      ]
     },
     "execution_count": 7,
     "metadata": {},
     "output_type": "execute_result"
    }
   ],
   "source": [
    "doc = db.packt_videos.find_one()\n",
    "doc"
   ]
  },
  {
   "cell_type": "code",
   "execution_count": 8,
   "metadata": {},
   "outputs": [
    {
     "name": "stdout",
     "output_type": "stream",
     "text": [
      "{'nInserted': 0,\n",
      " 'nMatched': 0,\n",
      " 'nModified': 0,\n",
      " 'nRemoved': 0,\n",
      " 'nUpserted': 0,\n",
      " 'upserted': [],\n",
      " 'writeConcernErrors': [],\n",
      " 'writeErrors': [{'code': 11000,\n",
      "                  'errmsg': 'E11000 duplicate key error collection: '\n",
      "                            'test.packt_videos index: _id_ dup key: { : '\n",
      "                            \"ObjectId('5b3418ae722c7d6718c731c2') }\",\n",
      "                  'index': 0,\n",
      "                  'op': {'_id': ObjectId('5b3418ae722c7d6718c731c2'),\n",
      "                         'authors': ['Gergo Bogdan'],\n",
      "                         'title': 'Python Design Patterns'}}]}\n"
     ]
    }
   ],
   "source": [
    "from pymongo import InsertOne\n",
    "\n",
    "\n",
    "try:\n",
    "    db.packt_videos.bulk_write([\n",
    "        InsertOne(doc)\n",
    "    ])\n",
    "    print('success')\n",
    "except pymongo.errors.BulkWriteError as bwe:\n",
    "    pprint(bwe.details)"
   ]
  },
  {
   "cell_type": "code",
   "execution_count": 9,
   "metadata": {},
   "outputs": [
    {
     "name": "stdout",
     "output_type": "stream",
     "text": [
      "{'nInserted': 0,\n",
      " 'nMatched': 4,\n",
      " 'nModified': 0,\n",
      " 'nRemoved': 0,\n",
      " 'nUpserted': 0,\n",
      " 'upserted': [],\n",
      " 'writeConcernErrors': [],\n",
      " 'writeErrors': []}\n"
     ]
    }
   ],
   "source": [
    "bulk = db.packt_videos.bulk_write([\n",
    "    UpdateMany({'title': video['title']}, {'$addToSet': {'authors': {'$each': video['authors']}}}, upsert=True)\n",
    "for video in videos], ordered=False)\n",
    "\n",
    "pprint(bulk.bulk_api_result)"
   ]
  }
 ],
 "metadata": {
  "kernelspec": {
   "display_name": "Python 3",
   "language": "python",
   "name": "python3"
  },
  "language_info": {
   "codemirror_mode": {
    "name": "ipython",
    "version": 3
   },
   "file_extension": ".py",
   "mimetype": "text/x-python",
   "name": "python",
   "nbconvert_exporter": "python",
   "pygments_lexer": "ipython3",
   "version": "3.6.5"
  }
 },
 "nbformat": 4,
 "nbformat_minor": 2
}
