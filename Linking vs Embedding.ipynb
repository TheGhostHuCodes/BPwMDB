{
 "cells": [
  {
   "cell_type": "code",
   "execution_count": 1,
   "metadata": {},
   "outputs": [],
   "source": [
    "import pymongo\n",
    "client = pymongo.MongoClient()\n",
    "db = client.test"
   ]
  },
  {
   "cell_type": "markdown",
   "metadata": {},
   "source": [
    "# Approach 1: Pure linking"
   ]
  },
  {
   "cell_type": "code",
   "execution_count": 2,
   "metadata": {},
   "outputs": [
    {
     "data": {
      "text/plain": [
       "'post_id_1'"
      ]
     },
     "execution_count": 2,
     "metadata": {},
     "output_type": "execute_result"
    }
   ],
   "source": [
    "posts = db.posts\n",
    "comments = db.comments\n",
    "posts.drop()\n",
    "comments.drop()\n",
    "comments.create_index('post_id')"
   ]
  },
  {
   "cell_type": "code",
   "execution_count": 3,
   "metadata": {},
   "outputs": [],
   "source": [
    "def make_post(title, author, text):\n",
    "    result = posts.insert_one({\n",
    "        'title': title,\n",
    "        'author': author,\n",
    "        'text': text,\n",
    "    })\n",
    "    return result.inserted_id\n",
    "\n",
    "\n",
    "def make_comment(post_id, author, text):\n",
    "    result = comments.insert_one({\n",
    "        'post_id': post_id,\n",
    "        'author': author,\n",
    "        'text': text,\n",
    "    })\n",
    "    return result.inserted_id\n",
    "\n",
    "\n",
    "def get_post_with_comments(post_id):\n",
    "    post = posts.find_one({'_id': post_id})\n",
    "    comments_ = list(comments.find({'post_id': post_id}))\n",
    "    return dict(post=post, comments=comments_)"
   ]
  },
  {
   "cell_type": "code",
   "execution_count": 4,
   "metadata": {},
   "outputs": [
    {
     "data": {
      "text/plain": [
       "ObjectId('5b34fc056cb0046f92f152c8')"
      ]
     },
     "execution_count": 4,
     "metadata": {},
     "output_type": "execute_result"
    }
   ],
   "source": [
    "post_id = make_post(\n",
    "    title='First post', author='Joey', text='My very first post')\n",
    "post_id"
   ]
  },
  {
   "cell_type": "code",
   "execution_count": 5,
   "metadata": {},
   "outputs": [],
   "source": [
    "comment_id = make_comment(\n",
    "    post_id=post_id,\n",
    "    author='Mancy',\n",
    "    text='This is an uninteresting post',\n",
    ")"
   ]
  },
  {
   "cell_type": "code",
   "execution_count": 6,
   "metadata": {},
   "outputs": [
    {
     "data": {
      "text/plain": [
       "{'post': {'_id': ObjectId('5b34fc056cb0046f92f152c8'),\n",
       "  'title': 'First post',\n",
       "  'author': 'Joey',\n",
       "  'text': 'My very first post'},\n",
       " 'comments': [{'_id': ObjectId('5b34fc056cb0046f92f152c9'),\n",
       "   'post_id': ObjectId('5b34fc056cb0046f92f152c8'),\n",
       "   'author': 'Mancy',\n",
       "   'text': 'This is an uninteresting post'}]}"
      ]
     },
     "execution_count": 6,
     "metadata": {},
     "output_type": "execute_result"
    }
   ],
   "source": [
    "get_post_with_comments(post_id)"
   ]
  },
  {
   "cell_type": "markdown",
   "metadata": {},
   "source": [
    "## Pure linking\n",
    "\n",
    "*Pros*\n",
    "\n",
    "- Documents don't grow (more important in older MongoDB)\n",
    "- Familiar to relational users\n",
    "\n",
    "*Cons*\n",
    "\n",
    "- Must perform 2 queries, fetching many documents, for each page view\n",
    "- Extra index comments.post_id must be created/maintained"
   ]
  },
  {
   "cell_type": "markdown",
   "metadata": {},
   "source": [
    "# Approach 2: Pure embedding"
   ]
  },
  {
   "cell_type": "code",
   "execution_count": 7,
   "metadata": {},
   "outputs": [],
   "source": [
    "posts = db.posts\n",
    "comments = db.comments\n",
    "posts.drop()\n",
    "comments.drop()"
   ]
  },
  {
   "cell_type": "code",
   "execution_count": 8,
   "metadata": {},
   "outputs": [],
   "source": [
    "def make_post(title, author, text):\n",
    "    result = posts.insert_one({\n",
    "        'title': title,\n",
    "        'author': author,\n",
    "        'text': text,\n",
    "        'comments': [],\n",
    "    })\n",
    "    return result.inserted_id\n",
    "\n",
    "\n",
    "def make_comment(post_id, author, text):\n",
    "    result = posts.update_one(\n",
    "        {'_id': post_id},\n",
    "        {'$push': {'comments': {\n",
    "            'author': author,\n",
    "            'text': text}}\n",
    "        })\n",
    "    return post_id\n",
    "\n",
    "\n",
    "def get_post_with_comments(post_id):\n",
    "    post = posts.find_one({'_id': post_id})\n",
    "    comments = post.pop('comments')\n",
    "    return dict(post=post, comments=comments)"
   ]
  },
  {
   "cell_type": "code",
   "execution_count": 9,
   "metadata": {},
   "outputs": [
    {
     "data": {
      "text/plain": [
       "ObjectId('5b34fc056cb0046f92f152ca')"
      ]
     },
     "execution_count": 9,
     "metadata": {},
     "output_type": "execute_result"
    }
   ],
   "source": [
    "post_id = make_post(\n",
    "    title='First post', author='Joey', text='My very first post')\n",
    "make_comment(\n",
    "    post_id=post_id,\n",
    "    author='Mancy',\n",
    "    text='This is an uninteresting post')"
   ]
  },
  {
   "cell_type": "markdown",
   "metadata": {},
   "source": [
    "## Pure embedding\n",
    "\n",
    "*Pros*\n",
    "\n",
    "- Single query per page view\n",
    "- No extra indexes\n",
    "\n",
    "*Cons*\n",
    "\n",
    "- Documents grow (more important in older MongoDB)\n",
    "- Unfamiliar to relational users"
   ]
  },
  {
   "cell_type": "markdown",
   "metadata": {},
   "source": [
    "# Hybrid approach: Pagination"
   ]
  },
  {
   "cell_type": "code",
   "execution_count": 10,
   "metadata": {},
   "outputs": [
    {
     "data": {
      "text/plain": [
       "'post_id_1'"
      ]
     },
     "execution_count": 10,
     "metadata": {},
     "output_type": "execute_result"
    }
   ],
   "source": [
    "posts = db.posts\n",
    "comment_pages = db.comment_pages\n",
    "posts.drop()\n",
    "comment_pages.drop()\n",
    "comment_pages.create_index('post_id')"
   ]
  },
  {
   "cell_type": "code",
   "execution_count": 11,
   "metadata": {},
   "outputs": [],
   "source": [
    "def make_post(title, author, text):\n",
    "    result = posts.insert_one({\n",
    "        'title': title,\n",
    "        'author': author,\n",
    "        'text': text\n",
    "    })\n",
    "    return result.inserted_id\n",
    "\n",
    "\n",
    "def make_comment(post_id, author, text):\n",
    "    result = comment_pages.update_one(\n",
    "        {'post_id': post_id, 'num_comments': {'$lt': 10}},\n",
    "        {'$push': {'comments': {\n",
    "            'author': author,\n",
    "            'text': text}},\n",
    "         '$inc': {'num_comments': 1}\n",
    "        },\n",
    "        upsert=True)\n",
    "    return result\n",
    "\n",
    "\n",
    "def get_post_with_comments(post_id):\n",
    "    post = posts.find_one({'_id': post_id})\n",
    "    q = comment_pages.find({'post_id': post_id})\n",
    "    q = q.sort('_id')\n",
    "    comments = []\n",
    "    for pg in q:\n",
    "        comments += pg['comments']\n",
    "    return dict(post=post, comments=comments)"
   ]
  },
  {
   "cell_type": "code",
   "execution_count": 12,
   "metadata": {},
   "outputs": [
    {
     "data": {
      "text/plain": [
       "<pymongo.results.UpdateResult at 0x1103f2888>"
      ]
     },
     "execution_count": 12,
     "metadata": {},
     "output_type": "execute_result"
    }
   ],
   "source": [
    "post_id = make_post(\n",
    "    title='First post', author='Joey', text='My very first post')\n",
    "make_comment(\n",
    "    post_id=post_id,\n",
    "    author='Mancy',\n",
    "    text='This is an uninteresting post')"
   ]
  },
  {
   "cell_type": "code",
   "execution_count": 13,
   "metadata": {},
   "outputs": [
    {
     "data": {
      "text/plain": [
       "{'post': {'_id': ObjectId('5b34fc066cb0046f92f152cb'),\n",
       "  'title': 'First post',\n",
       "  'author': 'Joey',\n",
       "  'text': 'My very first post'},\n",
       " 'comments': [{'author': 'Mancy', 'text': 'This is an uninteresting post'}]}"
      ]
     },
     "execution_count": 13,
     "metadata": {},
     "output_type": "execute_result"
    }
   ],
   "source": [
    "get_post_with_comments(post_id)"
   ]
  },
  {
   "cell_type": "code",
   "execution_count": 14,
   "metadata": {},
   "outputs": [],
   "source": [
    "for x in range(20):\n",
    "    make_comment(post_id=post_id, author='spam', text='more spam')"
   ]
  },
  {
   "cell_type": "code",
   "execution_count": 15,
   "metadata": {},
   "outputs": [
    {
     "data": {
      "text/plain": [
       "[{'_id': ObjectId('5b34fc06cd139b5227d8b92a'), 'num_comments': 10},\n",
       " {'_id': ObjectId('5b34fc06cd139b5227d8b937'), 'num_comments': 10},\n",
       " {'_id': ObjectId('5b34fc06cd139b5227d8b942'), 'num_comments': 1}]"
      ]
     },
     "execution_count": 15,
     "metadata": {},
     "output_type": "execute_result"
    }
   ],
   "source": [
    "list(db.comment_pages.find({}, {'num_comments': 1}))"
   ]
  },
  {
   "cell_type": "code",
   "execution_count": 16,
   "metadata": {},
   "outputs": [
    {
     "data": {
      "text/plain": [
       "{'post': {'_id': ObjectId('5b34fc066cb0046f92f152cb'),\n",
       "  'title': 'First post',\n",
       "  'author': 'Joey',\n",
       "  'text': 'My very first post'},\n",
       " 'comments': [{'author': 'Mancy', 'text': 'This is an uninteresting post'},\n",
       "  {'author': 'spam', 'text': 'more spam'},\n",
       "  {'author': 'spam', 'text': 'more spam'},\n",
       "  {'author': 'spam', 'text': 'more spam'},\n",
       "  {'author': 'spam', 'text': 'more spam'},\n",
       "  {'author': 'spam', 'text': 'more spam'},\n",
       "  {'author': 'spam', 'text': 'more spam'},\n",
       "  {'author': 'spam', 'text': 'more spam'},\n",
       "  {'author': 'spam', 'text': 'more spam'},\n",
       "  {'author': 'spam', 'text': 'more spam'},\n",
       "  {'author': 'spam', 'text': 'more spam'},\n",
       "  {'author': 'spam', 'text': 'more spam'},\n",
       "  {'author': 'spam', 'text': 'more spam'},\n",
       "  {'author': 'spam', 'text': 'more spam'},\n",
       "  {'author': 'spam', 'text': 'more spam'},\n",
       "  {'author': 'spam', 'text': 'more spam'},\n",
       "  {'author': 'spam', 'text': 'more spam'},\n",
       "  {'author': 'spam', 'text': 'more spam'},\n",
       "  {'author': 'spam', 'text': 'more spam'},\n",
       "  {'author': 'spam', 'text': 'more spam'},\n",
       "  {'author': 'spam', 'text': 'more spam'}]}"
      ]
     },
     "execution_count": 16,
     "metadata": {},
     "output_type": "execute_result"
    }
   ],
   "source": [
    "get_post_with_comments(post_id)"
   ]
  },
  {
   "cell_type": "markdown",
   "metadata": {},
   "source": [
    "## Hybrid approach with paging\n",
    "\n",
    "- Smaller # of documents retrieved than linking\n",
    "- Same number of indexes as linking\n",
    "- Tricky to get right\n",
    "- Posts don't grow, comment pages don't grow *much*"
   ]
  }
 ],
 "metadata": {
  "kernelspec": {
   "display_name": "Python 3",
   "language": "python",
   "name": "python3"
  },
  "language_info": {
   "codemirror_mode": {
    "name": "ipython",
    "version": 3
   },
   "file_extension": ".py",
   "mimetype": "text/x-python",
   "name": "python",
   "nbconvert_exporter": "python",
   "pygments_lexer": "ipython3",
   "version": "3.6.5"
  }
 },
 "nbformat": 4,
 "nbformat_minor": 2
}
