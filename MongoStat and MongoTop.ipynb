{
 "cells": [
  {
   "cell_type": "code",
   "execution_count": 1,
   "metadata": {},
   "outputs": [],
   "source": [
    "import pymongo\n",
    "client = pymongo.MongoClient()\n",
    "db = client.test\n",
    "coll = db.stress\n",
    "coll.drop()"
   ]
  },
  {
   "cell_type": "code",
   "execution_count": 2,
   "metadata": {},
   "outputs": [],
   "source": [
    "import time\n",
    "from functools import wraps\n",
    "\n",
    "\n",
    "def timed(label):\n",
    "    def decorator(func):\n",
    "        @wraps(func)\n",
    "        def wrapper(*args, **kwargs):\n",
    "            n = kwargs.get('n')\n",
    "            bs = kwargs.get('bs', 1)\n",
    "            begin = time.time()\n",
    "            try:\n",
    "                return func(*args, **kwargs)\n",
    "            finally:\n",
    "                elapsed = time.time() - begin\n",
    "                if n:\n",
    "                    if bs:\n",
    "                        n *= bs\n",
    "                    print('{} {}/s'.format(n / elapsed, label))\n",
    "                else:\n",
    "                    print('{}: {}s elapsed'.format(label, elapsed))\n",
    "        return wrapper\n",
    "    return decorator"
   ]
  },
  {
   "cell_type": "code",
   "execution_count": 3,
   "metadata": {},
   "outputs": [],
   "source": [
    "@timed('inserts')\n",
    "def insert_test(coll, n=1000, bs=1000):\n",
    "    for ix_n in range(n):\n",
    "        block = [\n",
    "            {'ix_n': ix_n, 'ix_b': ix_b}\n",
    "            for ix_b in range(bs)\n",
    "        ]\n",
    "        coll.insert_many(block)\n",
    "        if ix_n % 40 == 0:\n",
    "            print()\n",
    "        print('.', end='', flush=True)\n",
    "    print()"
   ]
  },
  {
   "cell_type": "code",
   "execution_count": 4,
   "metadata": {},
   "outputs": [],
   "source": [
    "import random\n",
    "@timed('queries')\n",
    "def query_test(coll, max_ix_b, max_ix_n, n=100, bs=10):\n",
    "    for ix_n in range(n):\n",
    "        rv_n = random.randint(0, max_ix_n + 1)\n",
    "        rv_b = random.randint(0, max_ix_b + 1)\n",
    "        res = coll.find({\n",
    "            'ix_n': rv_n,\n",
    "            'ix_b': {'$gt': rv_b}\n",
    "        })\n",
    "        list(res)"
   ]
  },
  {
   "cell_type": "code",
   "execution_count": 5,
   "metadata": {},
   "outputs": [],
   "source": [
    "@timed('updates')\n",
    "def update_test(coll, max_ix_b, max_ix_n, n=10000):\n",
    "    for ix_n in range(n):\n",
    "        rv_n = random.randint(0, max_ix_n + 1)\n",
    "        rv_b = random.randint(0, max_ix_b + 1)\n",
    "        coll.update_one(\n",
    "        {'ix_n': rv_n, 'ix_b': rv_b},\n",
    "        {'$inc': {'x': 1}})"
   ]
  },
  {
   "cell_type": "code",
   "execution_count": 6,
   "metadata": {},
   "outputs": [
    {
     "name": "stdout",
     "output_type": "stream",
     "text": [
      "\n",
      "........................................\n",
      "........................................\n",
      "........................................\n",
      "........................................\n",
      "........................................\n",
      "........................................\n",
      "........................................\n",
      "........................................\n",
      "........................................\n",
      "........................................\n",
      "........................................\n",
      "........................................\n",
      "....................\n",
      "68229.34485966725 inserts/s\n"
     ]
    }
   ],
   "source": [
    "insert_test(coll, n=500, bs=1000)"
   ]
  },
  {
   "cell_type": "code",
   "execution_count": 7,
   "metadata": {},
   "outputs": [],
   "source": [
    "max_ix_b = 999\n",
    "max_ix_n = 499\n",
    "coll.drop_indexes()"
   ]
  },
  {
   "cell_type": "code",
   "execution_count": 8,
   "metadata": {},
   "outputs": [
    {
     "name": "stdout",
     "output_type": "stream",
     "text": [
      "5.373386390631789 queries/s\n"
     ]
    }
   ],
   "source": [
    "query_test(coll, max_ix_b, max_ix_n, n=50)"
   ]
  },
  {
   "cell_type": "code",
   "execution_count": 9,
   "metadata": {},
   "outputs": [
    {
     "name": "stdout",
     "output_type": "stream",
     "text": [
      "9.437595196022691 updates/s\n"
     ]
    }
   ],
   "source": [
    "update_test(coll, max_ix_b, max_ix_n, n=50)"
   ]
  },
  {
   "cell_type": "code",
   "execution_count": 10,
   "metadata": {},
   "outputs": [
    {
     "data": {
      "text/plain": [
       "'ix_n_1'"
      ]
     },
     "execution_count": 10,
     "metadata": {},
     "output_type": "execute_result"
    }
   ],
   "source": [
    "coll.create_index([\n",
    "    ('ix_n', 1)\n",
    "])"
   ]
  },
  {
   "cell_type": "code",
   "execution_count": 11,
   "metadata": {},
   "outputs": [
    {
     "name": "stdout",
     "output_type": "stream",
     "text": [
      "303.4039506566675 queries/s\n"
     ]
    }
   ],
   "source": [
    "query_test(coll, max_ix_b, max_ix_n, n=2000)"
   ]
  },
  {
   "cell_type": "code",
   "execution_count": 12,
   "metadata": {},
   "outputs": [
    {
     "name": "stdout",
     "output_type": "stream",
     "text": [
      "978.7943266714491 updates/s\n"
     ]
    }
   ],
   "source": [
    "update_test(coll, max_ix_b, max_ix_n, n=2000)"
   ]
  },
  {
   "cell_type": "code",
   "execution_count": 13,
   "metadata": {},
   "outputs": [
    {
     "data": {
      "text/plain": [
       "'ix_n_1_ix_b_1'"
      ]
     },
     "execution_count": 13,
     "metadata": {},
     "output_type": "execute_result"
    }
   ],
   "source": [
    "coll.create_index([\n",
    "    ('ix_n', 1),\n",
    "    ('ix_b', 1),\n",
    "])"
   ]
  },
  {
   "cell_type": "code",
   "execution_count": 14,
   "metadata": {},
   "outputs": [],
   "source": [
    "coll.drop_index('ix_n_1')"
   ]
  },
  {
   "cell_type": "code",
   "execution_count": 15,
   "metadata": {},
   "outputs": [
    {
     "name": "stdout",
     "output_type": "stream",
     "text": [
      "381.85081199596885 queries/s\n"
     ]
    }
   ],
   "source": [
    "query_test(coll, max_ix_b, max_ix_n, n=5000)"
   ]
  },
  {
   "cell_type": "code",
   "execution_count": 16,
   "metadata": {},
   "outputs": [
    {
     "name": "stdout",
     "output_type": "stream",
     "text": [
      "2702.324629652442 updates/s\n"
     ]
    }
   ],
   "source": [
    "update_test(coll, max_ix_b, max_ix_n, n=5000)"
   ]
  },
  {
   "cell_type": "code",
   "execution_count": 17,
   "metadata": {},
   "outputs": [
    {
     "name": "stdout",
     "output_type": "stream",
     "text": [
      "\n",
      "........................................\n",
      "........................................\n",
      "........................................\n",
      "........................................\n",
      "........................................\n",
      "59741.26103464963 inserts/s\n"
     ]
    }
   ],
   "source": [
    "insert_test(coll, n=200, bs=1000)"
   ]
  },
  {
   "cell_type": "code",
   "execution_count": 18,
   "metadata": {},
   "outputs": [
    {
     "name": "stdout",
     "output_type": "stream",
     "text": [
      "\n",
      "........................................\n",
      "........................................\n",
      "........................................\n",
      "........................................\n",
      "........................................\n",
      "47234.51220921953 inserts/s\n",
      "418.8309063821499 updates/s\n",
      "174.8248387499471 queries/s\n"
     ]
    }
   ],
   "source": [
    "from threading import Thread\n",
    "threads = [\n",
    "    Thread(target=insert_test, args=(coll,), kwargs={'n': 200, 'bs': 1000}),\n",
    "    Thread(target=update_test, args=(coll,),\n",
    "           kwargs={'n': 2000, 'max_ix_n': max_ix_n, 'max_ix_b': max_ix_b}),\n",
    "    Thread(target=query_test, args=(coll,),\n",
    "           kwargs={'n': 2000, 'max_ix_n': max_ix_n, 'max_ix_b': max_ix_b}),\n",
    "]\n",
    "for t in threads:\n",
    "    t.setDaemon(True)\n",
    "    t.start()\n",
    "for t in threads:\n",
    "    t.join()"
   ]
  }
 ],
 "metadata": {
  "kernelspec": {
   "display_name": "Python 3",
   "language": "python",
   "name": "python3"
  },
  "language_info": {
   "codemirror_mode": {
    "name": "ipython",
    "version": 3
   },
   "file_extension": ".py",
   "mimetype": "text/x-python",
   "name": "python",
   "nbconvert_exporter": "python",
   "pygments_lexer": "ipython3",
   "version": "3.6.5"
  }
 },
 "nbformat": 4,
 "nbformat_minor": 2
}
